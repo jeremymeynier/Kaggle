{
 "cells": [
  {
   "cell_type": "markdown",
   "metadata": {},
   "source": [
    "# Libraries import"
   ]
  },
  {
   "cell_type": "code",
   "execution_count": 1,
   "metadata": {},
   "outputs": [],
   "source": [
    "import pandas as pd\n",
    "import numpy as np\n",
    "import time\n",
    "# Visualisation\n",
    "import plotly\n",
    "from bokeh.plotting import figure, output_file, show, output_notebook, ColumnDataSource\n",
    "from bokeh.layouts import gridplot\n",
    "import matplotlib.pyplot as plt\n",
    "import seaborn as sns\n",
    "sns.set(style=\"darkgrid\")\n",
    "\n",
    "# Machine Learning\n",
    "import h2o\n",
    "from sklearn import svm, preprocessing\n",
    "from sklearn.model_selection import train_test_split, cross_val_score\n",
    "from sklearn.ensemble import RandomForestRegressor, ExtraTreesRegressor\n",
    "from sklearn.datasets import make_classification\n",
    "from sklearn.kernel_ridge import KernelRidge\n",
    "from sklearn.linear_model import LinearRegression, Ridge, Lasso, ElasticNet\n",
    "import xgboost as xgb"
   ]
  },
  {
   "cell_type": "markdown",
   "metadata": {},
   "source": [
    "# Tests Bokeh"
   ]
  },
  {
   "cell_type": "code",
   "execution_count": 65,
   "metadata": {},
   "outputs": [
    {
     "data": {
      "text/plain": [
       "[7, 12, 20]"
      ]
     },
     "execution_count": 65,
     "metadata": {},
     "output_type": "execute_result"
    }
   ],
   "source": [
    "def f(x):\n",
    "    return x ** 2\n",
    "L1 = [1, 2, 3]\n",
    "L2 = [6, 10, 17]\n",
    "\n",
    "[x + y for (x,y) in zip(L1, L2)]\n"
   ]
  },
  {
   "cell_type": "code",
   "execution_count": 38,
   "metadata": {},
   "outputs": [
    {
     "data": {
      "text/html": [
       "\n",
       "<div class=\"bk-root\">\n",
       "    <div class=\"bk-plotdiv\" id=\"90c74d70-8d4e-40c8-9ee3-271f6d391473\"></div>\n",
       "</div>"
      ]
     },
     "metadata": {},
     "output_type": "display_data"
    },
    {
     "data": {
      "application/javascript": [
       "(function(root) {\n",
       "  function embed_document(root) {\n",
       "    \n",
       "  var docs_json = {\"df491136-73e8-4cbc-9dd9-89db4a21e771\":{\"roots\":{\"references\":[{\"attributes\":{},\"id\":\"75f0c76a-6ccf-4800-adb5-b5ccb146b298\",\"type\":\"BasicTickFormatter\"},{\"attributes\":{},\"id\":\"90297142-32ad-4c11-9f8a-6129e0f36033\",\"type\":\"BasicTicker\"},{\"attributes\":{},\"id\":\"9c3129ac-9beb-495e-b1f8-93e696684760\",\"type\":\"LinearScale\"},{\"attributes\":{\"plot\":{\"id\":\"c41648be-65f1-43c7-be76-4ed9f7656976\",\"subtype\":\"Figure\",\"type\":\"Plot\"},\"ticker\":{\"id\":\"31c629d8-4a89-4332-82e7-22296048d409\",\"type\":\"BasicTicker\"}},\"id\":\"d64b862e-2b39-4d04-a3ef-4d81bd4790df\",\"type\":\"Grid\"},{\"attributes\":{\"formatter\":{\"id\":\"5d24beb2-08ef-43a9-9f0f-8fd0f9092ac3\",\"type\":\"BasicTickFormatter\"},\"plot\":{\"id\":\"c41648be-65f1-43c7-be76-4ed9f7656976\",\"subtype\":\"Figure\",\"type\":\"Plot\"},\"ticker\":{\"id\":\"31c629d8-4a89-4332-82e7-22296048d409\",\"type\":\"BasicTicker\"}},\"id\":\"5d8f7ba7-7326-4e19-bf58-7368344a19fe\",\"type\":\"LinearAxis\"},{\"attributes\":{},\"id\":\"7faf782b-ab2f-444e-ae8f-f713bdb3508b\",\"type\":\"HelpTool\"},{\"attributes\":{\"below\":[{\"id\":\"5d8f7ba7-7326-4e19-bf58-7368344a19fe\",\"type\":\"LinearAxis\"}],\"left\":[{\"id\":\"418720e0-b1e5-4fc4-9c1c-85d29a61d31b\",\"type\":\"LinearAxis\"}],\"plot_height\":250,\"plot_width\":250,\"renderers\":[{\"id\":\"5d8f7ba7-7326-4e19-bf58-7368344a19fe\",\"type\":\"LinearAxis\"},{\"id\":\"d64b862e-2b39-4d04-a3ef-4d81bd4790df\",\"type\":\"Grid\"},{\"id\":\"418720e0-b1e5-4fc4-9c1c-85d29a61d31b\",\"type\":\"LinearAxis\"},{\"id\":\"e43d9f37-40de-488d-9920-316570cd3ab0\",\"type\":\"Grid\"},{\"id\":\"34d77c37-5f1e-4f37-9355-057937c6eb74\",\"type\":\"BoxAnnotation\"},{\"id\":\"cd7c753b-019c-411c-94fa-45930f43b1a9\",\"type\":\"GlyphRenderer\"}],\"title\":null,\"toolbar\":{\"id\":\"4b298b13-1fbc-4273-895f-06377f5f0eab\",\"type\":\"Toolbar\"},\"toolbar_location\":null,\"x_range\":{\"id\":\"d4232851-7100-4bfd-a7aa-31aded8fa1b4\",\"type\":\"DataRange1d\"},\"x_scale\":{\"id\":\"710c16ba-a1f1-4383-806b-9f34659f417e\",\"type\":\"LinearScale\"},\"y_range\":{\"id\":\"3e75a9a7-2429-4b84-a5ef-ed103de911c2\",\"type\":\"DataRange1d\"},\"y_scale\":{\"id\":\"9c3129ac-9beb-495e-b1f8-93e696684760\",\"type\":\"LinearScale\"}},\"id\":\"c41648be-65f1-43c7-be76-4ed9f7656976\",\"subtype\":\"Figure\",\"type\":\"Plot\"},{\"attributes\":{},\"id\":\"31c629d8-4a89-4332-82e7-22296048d409\",\"type\":\"BasicTicker\"},{\"attributes\":{\"active_drag\":\"auto\",\"active_inspect\":\"auto\",\"active_scroll\":\"auto\",\"active_tap\":\"auto\",\"tools\":[{\"id\":\"2f63958b-1a3c-41fe-b913-b636df977407\",\"type\":\"PanTool\"},{\"id\":\"5f2ecbaf-81f4-483a-b835-746cd05f6bfe\",\"type\":\"WheelZoomTool\"},{\"id\":\"72be0db4-77c8-4b0b-b031-2cb6c4148c5d\",\"type\":\"BoxZoomTool\"},{\"id\":\"9aad15bf-4504-41e0-b1c1-7c3147aca6e4\",\"type\":\"SaveTool\"},{\"id\":\"46ce50ee-9ce4-4b81-a31d-0ad1dd6d9569\",\"type\":\"ResetTool\"},{\"id\":\"b850746b-4d4b-4bd5-ba6e-510047666db3\",\"type\":\"HelpTool\"}]},\"id\":\"691b1bc3-3956-4591-8576-dc77ff6008c8\",\"type\":\"Toolbar\"},{\"attributes\":{\"source\":{\"id\":\"882f9a9f-575b-4cda-b473-0dae8dd0bdeb\",\"type\":\"ColumnDataSource\"}},\"id\":\"4c5c1d1a-9bb7-44a0-a989-a8a283d303e5\",\"type\":\"CDSView\"},{\"attributes\":{},\"id\":\"e3c40e84-d300-432c-a40d-86cd182b454a\",\"type\":\"ResetTool\"},{\"attributes\":{},\"id\":\"710c16ba-a1f1-4383-806b-9f34659f417e\",\"type\":\"LinearScale\"},{\"attributes\":{\"fill_alpha\":{\"value\":0.5},\"fill_color\":{\"value\":\"navy\"},\"line_alpha\":{\"value\":0.5},\"line_color\":{\"value\":\"navy\"},\"size\":{\"units\":\"screen\",\"value\":10},\"x\":{\"field\":\"x\"},\"y\":{\"field\":\"y\"}},\"id\":\"f3236426-029b-4693-81fa-5574c5f5ad12\",\"type\":\"Circle\"},{\"attributes\":{\"bottom_units\":\"screen\",\"fill_alpha\":{\"value\":0.5},\"fill_color\":{\"value\":\"lightgrey\"},\"left_units\":\"screen\",\"level\":\"overlay\",\"line_alpha\":{\"value\":1.0},\"line_color\":{\"value\":\"black\"},\"line_dash\":[4,4],\"line_width\":{\"value\":2},\"plot\":null,\"render_mode\":\"css\",\"right_units\":\"screen\",\"top_units\":\"screen\"},\"id\":\"52e210c5-af70-42a9-ab5b-bbfd33d2097c\",\"type\":\"BoxAnnotation\"},{\"attributes\":{\"fill_alpha\":{\"value\":0.1},\"fill_color\":{\"value\":\"#1f77b4\"},\"line_alpha\":{\"value\":0.1},\"line_color\":{\"value\":\"#1f77b4\"},\"size\":{\"units\":\"screen\",\"value\":10},\"x\":{\"field\":\"x\"},\"y\":{\"field\":\"y\"}},\"id\":\"cd288611-1e61-4662-8f95-5459fda1f20a\",\"type\":\"Circle\"},{\"attributes\":{},\"id\":\"3274f6f8-f0c3-43e7-90c6-eaf4dd5d9b21\",\"type\":\"LinearScale\"},{\"attributes\":{\"callback\":null},\"id\":\"3e75a9a7-2429-4b84-a5ef-ed103de911c2\",\"type\":\"DataRange1d\"},{\"attributes\":{\"dimension\":1,\"plot\":{\"id\":\"7aaf7621-b3a9-43ae-b353-6f82bad11c0b\",\"subtype\":\"Figure\",\"type\":\"Plot\"},\"ticker\":{\"id\":\"122a518e-eb2a-423b-b732-600c1221e156\",\"type\":\"BasicTicker\"}},\"id\":\"f3bc8587-e451-4b93-a7b3-c8d60824207c\",\"type\":\"Grid\"},{\"attributes\":{\"active_drag\":\"auto\",\"active_inspect\":\"auto\",\"active_scroll\":\"auto\",\"active_tap\":\"auto\",\"tools\":[{\"id\":\"a2760683-559a-448e-b9d6-12e0d2f1bf4e\",\"type\":\"PanTool\"},{\"id\":\"c68ff345-067c-40d9-b553-71f86b46efe1\",\"type\":\"WheelZoomTool\"},{\"id\":\"7447d43f-7654-43d4-950c-9cfbf4008557\",\"type\":\"BoxZoomTool\"},{\"id\":\"ce2b78a3-313a-4f6e-8f2d-455b6c846b32\",\"type\":\"SaveTool\"},{\"id\":\"741f9f47-a5c9-46f7-b945-2d63c6c06ede\",\"type\":\"ResetTool\"},{\"id\":\"0f4f58da-f73d-4653-b7bf-29c18d785bbc\",\"type\":\"HelpTool\"}]},\"id\":\"4b298b13-1fbc-4273-895f-06377f5f0eab\",\"type\":\"Toolbar\"},{\"attributes\":{\"below\":[{\"id\":\"805f2ecd-76ed-46be-a432-10db947fd46f\",\"type\":\"LinearAxis\"}],\"left\":[{\"id\":\"7563cca7-bc0f-4321-a0bf-763a25b2ab33\",\"type\":\"LinearAxis\"}],\"plot_height\":250,\"plot_width\":250,\"renderers\":[{\"id\":\"805f2ecd-76ed-46be-a432-10db947fd46f\",\"type\":\"LinearAxis\"},{\"id\":\"e6740a52-bdd9-41a9-8f9a-ea0c811d1325\",\"type\":\"Grid\"},{\"id\":\"7563cca7-bc0f-4321-a0bf-763a25b2ab33\",\"type\":\"LinearAxis\"},{\"id\":\"f3bc8587-e451-4b93-a7b3-c8d60824207c\",\"type\":\"Grid\"},{\"id\":\"0168fd43-d403-4dc9-afb1-d7adbb50d999\",\"type\":\"BoxAnnotation\"},{\"id\":\"d745b7b8-b063-4f7f-b031-e1b57377b3e6\",\"type\":\"GlyphRenderer\"}],\"title\":null,\"toolbar\":{\"id\":\"691b1bc3-3956-4591-8576-dc77ff6008c8\",\"type\":\"Toolbar\"},\"toolbar_location\":null,\"x_range\":{\"id\":\"d4232851-7100-4bfd-a7aa-31aded8fa1b4\",\"type\":\"DataRange1d\"},\"x_scale\":{\"id\":\"e3f558a0-c8af-49fc-b20f-72b65213db52\",\"type\":\"LinearScale\"},\"y_range\":{\"id\":\"3e75a9a7-2429-4b84-a5ef-ed103de911c2\",\"type\":\"DataRange1d\"},\"y_scale\":{\"id\":\"3274f6f8-f0c3-43e7-90c6-eaf4dd5d9b21\",\"type\":\"LinearScale\"}},\"id\":\"7aaf7621-b3a9-43ae-b353-6f82bad11c0b\",\"subtype\":\"Figure\",\"type\":\"Plot\"},{\"attributes\":{},\"id\":\"a2760683-559a-448e-b9d6-12e0d2f1bf4e\",\"type\":\"PanTool\"},{\"attributes\":{\"data_source\":{\"id\":\"882f9a9f-575b-4cda-b473-0dae8dd0bdeb\",\"type\":\"ColumnDataSource\"},\"glyph\":{\"id\":\"f3236426-029b-4693-81fa-5574c5f5ad12\",\"type\":\"Circle\"},\"hover_glyph\":null,\"muted_glyph\":null,\"nonselection_glyph\":{\"id\":\"cd288611-1e61-4662-8f95-5459fda1f20a\",\"type\":\"Circle\"},\"selection_glyph\":null,\"view\":{\"id\":\"4c5c1d1a-9bb7-44a0-a989-a8a283d303e5\",\"type\":\"CDSView\"}},\"id\":\"cd7c753b-019c-411c-94fa-45930f43b1a9\",\"type\":\"GlyphRenderer\"},{\"attributes\":{\"dimension\":1,\"plot\":{\"id\":\"c41648be-65f1-43c7-be76-4ed9f7656976\",\"subtype\":\"Figure\",\"type\":\"Plot\"},\"ticker\":{\"id\":\"90297142-32ad-4c11-9f8a-6129e0f36033\",\"type\":\"BasicTicker\"}},\"id\":\"e43d9f37-40de-488d-9920-316570cd3ab0\",\"type\":\"Grid\"},{\"attributes\":{},\"id\":\"ce2b78a3-313a-4f6e-8f2d-455b6c846b32\",\"type\":\"SaveTool\"},{\"attributes\":{\"bottom_units\":\"screen\",\"fill_alpha\":{\"value\":0.5},\"fill_color\":{\"value\":\"lightgrey\"},\"left_units\":\"screen\",\"level\":\"overlay\",\"line_alpha\":{\"value\":1.0},\"line_color\":{\"value\":\"black\"},\"line_dash\":[4,4],\"line_width\":{\"value\":2},\"plot\":null,\"render_mode\":\"css\",\"right_units\":\"screen\",\"top_units\":\"screen\"},\"id\":\"34d77c37-5f1e-4f37-9355-057937c6eb74\",\"type\":\"BoxAnnotation\"},{\"attributes\":{\"data_source\":{\"id\":\"1d67b690-b92a-4472-ac62-cea0316b9336\",\"type\":\"ColumnDataSource\"},\"glyph\":{\"id\":\"e558fdc9-c989-4595-b9a8-cca1ce522b33\",\"type\":\"Triangle\"},\"hover_glyph\":null,\"muted_glyph\":null,\"nonselection_glyph\":{\"id\":\"d5eabdac-415c-4363-bff2-0153e052a0bc\",\"type\":\"Triangle\"},\"selection_glyph\":null,\"view\":{\"id\":\"7d2489a2-df53-4bde-8cdc-cb72d97c27e0\",\"type\":\"CDSView\"}},\"id\":\"d745b7b8-b063-4f7f-b031-e1b57377b3e6\",\"type\":\"GlyphRenderer\"},{\"attributes\":{\"fill_alpha\":{\"value\":0.1},\"fill_color\":{\"value\":\"#1f77b4\"},\"line_alpha\":{\"value\":0.1},\"line_color\":{\"value\":\"#1f77b4\"},\"size\":{\"units\":\"screen\",\"value\":10},\"x\":{\"field\":\"x\"},\"y\":{\"field\":\"y\"}},\"id\":\"d5eabdac-415c-4363-bff2-0153e052a0bc\",\"type\":\"Triangle\"},{\"attributes\":{},\"id\":\"ffed1821-541d-4967-8dda-bccb7de1fc99\",\"type\":\"SaveTool\"},{\"attributes\":{},\"id\":\"c68ff345-067c-40d9-b553-71f86b46efe1\",\"type\":\"WheelZoomTool\"},{\"attributes\":{},\"id\":\"dfb595c7-1e07-414b-be9e-4f38013e2434\",\"type\":\"BasicTickFormatter\"},{\"attributes\":{\"formatter\":{\"id\":\"75f0c76a-6ccf-4800-adb5-b5ccb146b298\",\"type\":\"BasicTickFormatter\"},\"plot\":{\"id\":\"7aaf7621-b3a9-43ae-b353-6f82bad11c0b\",\"subtype\":\"Figure\",\"type\":\"Plot\"},\"ticker\":{\"id\":\"366a056d-1f05-4827-8142-d10a1e8e76d8\",\"type\":\"BasicTicker\"}},\"id\":\"805f2ecd-76ed-46be-a432-10db947fd46f\",\"type\":\"LinearAxis\"},{\"attributes\":{\"children\":[{\"id\":\"c41648be-65f1-43c7-be76-4ed9f7656976\",\"subtype\":\"Figure\",\"type\":\"Plot\"},{\"id\":\"7aaf7621-b3a9-43ae-b353-6f82bad11c0b\",\"subtype\":\"Figure\",\"type\":\"Plot\"},{\"id\":\"ff2dd39a-9ead-4e90-a889-86a1829cc9e2\",\"subtype\":\"Figure\",\"type\":\"Plot\"}]},\"id\":\"0c9f4ea4-a888-4741-bc3d-0b10c4fcdcd9\",\"type\":\"Row\"},{\"attributes\":{},\"id\":\"366a056d-1f05-4827-8142-d10a1e8e76d8\",\"type\":\"BasicTicker\"},{\"attributes\":{},\"id\":\"5d24beb2-08ef-43a9-9f0f-8fd0f9092ac3\",\"type\":\"BasicTickFormatter\"},{\"attributes\":{},\"id\":\"e3f558a0-c8af-49fc-b20f-72b65213db52\",\"type\":\"LinearScale\"},{\"attributes\":{\"callback\":null,\"column_names\":[\"x\",\"y\"],\"data\":{\"x\":{\"__ndarray__\":\"AAAAAAAAAACRGkt8Vz/AP5EaS3xXP9A/2qdwOgNf2D+RGkt8Vz/gPzXhXVstT+Q/2qdwOgNf6D9+boMZ2W7sP5EaS3xXP/A/433Ua0JH8j814V1bLU/0P4dE50oYV/Y/2qdwOgNf+D8sC/op7mb6P35ugxnZbvw/0NEMCcR2/j+RGkt8Vz8AQDrMD/RMQwFA433Ua0JHAkCML5njN0sDQDXhXVstTwRA3pIi0yJTBUCHROdKGFcGQDD2q8INWwdA2qdwOgNfCECDWTWy+GIJQCwL+inuZgpA1by+oeNqC0B+boMZ2W4MQCcgSJHOcg1A0NEMCcR2DkB5g9GAuXoPQJEaS3xXPxBAZnMtOFLBEEA6zA/0TEMRQA8l8q9HxRFA433Ua0JHEkC41rYnPckSQIwvmeM3SxNAYYh7nzLNE0A14V1bLU8UQAo6QBco0RRA3pIi0yJTFUCz6wSPHdUVQIdE50oYVxZAXJ3JBhPZFkAw9qvCDVsXQAVPjn4I3RdA2qdwOgNfGECuAFP2/eAYQINZNbL4YhlAV7IXbvPkGUAsC/op7mYaQABk3OXo6BpA1by+oeNqG0CpFaFd3uwbQH5ugxnZbhxAUsdl1dPwHEAnIEiRznIdQPt4Kk3J9B1A0NEMCcR2HkCkKu/EvvgeQHmD0YC5eh9ATdyzPLT8H0CRGkt8Vz8gQPtGPNpUgCBAZnMtOFLBIEDQnx6WTwIhQDrMD/RMQyFApPgAUkqEIUAPJfKvR8UhQHlR4w1FBiJA433Ua0JHIkBNqsXJP4giQLjWtic9ySJAIgOohToKI0CML5njN0sjQPZbikE1jCNAYYh7nzLNI0DLtGz9Lw4kQDXhXVstTyRAoA1PuSqQJEAKOkAXKNEkQHRmMXUlEiVA3pIi0yJTJUBJvxMxIJQlQLPrBI8d1SVAHRj27BoWJkCHROdKGFcmQPJw2KgVmCZAXJ3JBhPZJkDGybpkEBonQDD2q8INWydAmyKdIAucJ0AFT45+CN0nQG97f9wFHihA2qdwOgNfKEBE1GGYAKAoQK4AU/b94ChAGC1EVPshKUA=\",\"dtype\":\"float64\",\"shape\":[100]},\"y\":{\"__ndarray__\":\"AAAAAAAAAADwgwJ4LjTAP5qI2QHPEtA/+5MNU1HJ1z8ZTT7q2B3fP0aFmgwa+eI/ABg/lCAV5j+IQCEcMdboP3fOhmLzMOs/EyzujrQb7T/9Izwlj47uPxccgYyLg+8/g6xao7j27z9mZrL8O+bvP7+X94FZUu8/xVNiW3I97j9RB8Ai+6vsP5FWKYlppOo/oig6uxkv6D/Sh2bxK1blPyZGRbpaJeI/8qg+VZVT3T/4C4p0qOPVP+UppLIiM8w/3FNHxZdVuD/I23zJpD6gv+3ENsZjOcS/wo12/ecH0r/egWKM2KjZv2MTsJELcOC/83ixWvXH47+258MBZM7mv5eCD4nhdum/rExY6Hq267+TIxAn7YPtvwSssILL1+6/70I4BJ6s77/vOc8G+P7vvzTGy1KGze+/3176khQZ77/C8a4NiuTtvzGcHq/dNOy/mEFFlgER6r+EGZN4xoHnvx8WPFK3keS/Cli7+O1M4b+HQNqEwoHbv9kfIiFb+NO/gKyggGI5yL8EhrXMjDywvyCGtcyMPLA/jqyggGI5yD/gHyIhW/jTP4BA2oTCgds/Dli7+O1M4T8cFjxSt5HkP4cZk3jGgec/lEFFlgER6j8ynB6v3TTsP8Hxrg2K5O0/4F76khQZ7z80xstShs3vP+85zwb4/u8/8EI4BJ6s7z8DrLCCy9fuP5UjECftg+0/p0xY6Hq26z+Vgg+J4XbpP7fnwwFkzuY/9nixWvXH4z9cE7CRC3DgP9eBYozYqNk/w412/ecH0j/+xDbGYznEP0/bfMmkPqA/+VNHxZdVuL/UKaSyIjPMv+gLinSo49W/+Kg+VZVT3b8mRkW6WiXiv8+HZvErVuW/pig6uxkv6L+TVimJaaTqv1EHwCL7q+y/xFNiW3I97r/Al/eBWVLvv2Zmsvw75u+/g6xao7j2778YHIGMi4Pvv/sjPCWPju6/EyzujrQb7b94zoZi8zDrv4xAIRwx1ui//Bc/lCAV5r9GhZoMGvnivx5NPurYHd+/65MNU1HJ17+SiNkBzxLQv/GDAnguNMC/B1wUMyamwbw=\",\"dtype\":\"float64\",\"shape\":[100]}},\"selected\":null,\"selection_policy\":null},\"id\":\"882f9a9f-575b-4cda-b473-0dae8dd0bdeb\",\"type\":\"ColumnDataSource\"},{\"attributes\":{\"callback\":null,\"column_names\":[\"x\",\"y\"],\"data\":{\"x\":{\"__ndarray__\":\"AAAAAAAAAACRGkt8Vz/AP5EaS3xXP9A/2qdwOgNf2D+RGkt8Vz/gPzXhXVstT+Q/2qdwOgNf6D9+boMZ2W7sP5EaS3xXP/A/433Ua0JH8j814V1bLU/0P4dE50oYV/Y/2qdwOgNf+D8sC/op7mb6P35ugxnZbvw/0NEMCcR2/j+RGkt8Vz8AQDrMD/RMQwFA433Ua0JHAkCML5njN0sDQDXhXVstTwRA3pIi0yJTBUCHROdKGFcGQDD2q8INWwdA2qdwOgNfCECDWTWy+GIJQCwL+inuZgpA1by+oeNqC0B+boMZ2W4MQCcgSJHOcg1A0NEMCcR2DkB5g9GAuXoPQJEaS3xXPxBAZnMtOFLBEEA6zA/0TEMRQA8l8q9HxRFA433Ua0JHEkC41rYnPckSQIwvmeM3SxNAYYh7nzLNE0A14V1bLU8UQAo6QBco0RRA3pIi0yJTFUCz6wSPHdUVQIdE50oYVxZAXJ3JBhPZFkAw9qvCDVsXQAVPjn4I3RdA2qdwOgNfGECuAFP2/eAYQINZNbL4YhlAV7IXbvPkGUAsC/op7mYaQABk3OXo6BpA1by+oeNqG0CpFaFd3uwbQH5ugxnZbhxAUsdl1dPwHEAnIEiRznIdQPt4Kk3J9B1A0NEMCcR2HkCkKu/EvvgeQHmD0YC5eh9ATdyzPLT8H0CRGkt8Vz8gQPtGPNpUgCBAZnMtOFLBIEDQnx6WTwIhQDrMD/RMQyFApPgAUkqEIUAPJfKvR8UhQHlR4w1FBiJA433Ua0JHIkBNqsXJP4giQLjWtic9ySJAIgOohToKI0CML5njN0sjQPZbikE1jCNAYYh7nzLNI0DLtGz9Lw4kQDXhXVstTyRAoA1PuSqQJEAKOkAXKNEkQHRmMXUlEiVA3pIi0yJTJUBJvxMxIJQlQLPrBI8d1SVAHRj27BoWJkCHROdKGFcmQPJw2KgVmCZAXJ3JBhPZJkDGybpkEBonQDD2q8INWydAmyKdIAucJ0AFT45+CN0nQG97f9wFHihA2qdwOgNfKEBE1GGYAKAoQK4AU/b94ChAGC1EVPshKUA=\",\"dtype\":\"float64\",\"shape\":[100]},\"y\":{\"__ndarray__\":\"AAAAAAAA8D9o+gYFGL7vPyN/Fo5v+e4/XLHeqjC17T9foQT4kvbrP1YykSHGxOk/tDkVSdQo5z9AE3HJfC3kP10soPEH3+A/thLH2SiW2j9bQ2NRvgDTP4xzC34aOsY/cyCwKKhcqD8NyeikuUm0v0/eq9oaN8q/PSGBd67u1L+LyZhelmvcv8/m3JG2ueG/hlh3f5705L9dUsfUNNnnv10cd/2OW+q/wfLvCVdx7L8bLVJC9hHuv0PyRoe4Nu+/XjTx7ufa778HB0As4PvvvwQ9tXAZme+/V1DNmyq07r/ZTwivwlDtv4lZi6GZdOu/JeDa0Vgn6b/aPrV2e3Lmv820DJEnYeO/+v//////3783i/Tn4LnYv4yAwi7oDdG/30QPZF83wr9U+ijPKj+QvxHsuGvkX7w/k1rgSlktzj+GU4hOOdfWP1q1P3WwOd4/AasNgtOP4j+XUJVeWbblPzhQz6Jvg+g/uvBkh4zr6j99NRQyxuTsP/FJcov7Zu4/Juk3u/Vr7z+VSynBge/vP5RLKcGB7+8/Jek3u/Vr7z/vSXKL+2buP381FDLG5Ow/uPBkh4zr6j86UM+ib4PoP5VQlV5ZtuU/BasNgtOP4j9UtT91sDneP45TiE4519Y/hVrgSlktzj807Lhr5F+8P8f6KM8qP5C/zUQPZF83wr+SgMIu6A3Rvy6L9Ofgudi/BgAAAAAA4L/PtAyRJ2Hjv9k+tXZ7cua/I+Da0Vgn6b+NWYuhmXTrv9pPCK/CUO2/V1DNmyq07r8EPbVwGZnvvwgHQCzg+++/XjTx7ufa779E8kaHuDbvvx4tUkL2Ee6/wPLvCVdx7L9dHHf9jlvqv2BSx9Q02ee/gVh3f5705L/M5tyRtrnhv4zJmF6Wa9y/RiGBd67u1L8x3qvaGjfKv/DI6KS5SbS/bCCwKKhcqD90cwt+GjrGP2VDY1G+ANM/uRLH2SiW2j9aLKDxB9/gPzoTccl8LeQ/uDkVSdQo5z9WMpEhxsTpP16hBPiS9us/X7HeqjC17T8kfxaOb/nuP2j6BgUYvu8/AAAAAAAA8D8=\",\"dtype\":\"float64\",\"shape\":[100]}},\"selected\":null,\"selection_policy\":null},\"id\":\"1d67b690-b92a-4472-ac62-cea0316b9336\",\"type\":\"ColumnDataSource\"},{\"attributes\":{\"plot\":{\"id\":\"7aaf7621-b3a9-43ae-b353-6f82bad11c0b\",\"subtype\":\"Figure\",\"type\":\"Plot\"},\"ticker\":{\"id\":\"366a056d-1f05-4827-8142-d10a1e8e76d8\",\"type\":\"BasicTicker\"}},\"id\":\"e6740a52-bdd9-41a9-8f9a-ea0c811d1325\",\"type\":\"Grid\"},{\"attributes\":{},\"id\":\"741f9f47-a5c9-46f7-b945-2d63c6c06ede\",\"type\":\"ResetTool\"},{\"attributes\":{\"fill_alpha\":{\"value\":0.5},\"fill_color\":{\"value\":\"firebrick\"},\"line_alpha\":{\"value\":0.5},\"line_color\":{\"value\":\"firebrick\"},\"size\":{\"units\":\"screen\",\"value\":10},\"x\":{\"field\":\"x\"},\"y\":{\"field\":\"y\"}},\"id\":\"e558fdc9-c989-4595-b9a8-cca1ce522b33\",\"type\":\"Triangle\"},{\"attributes\":{\"overlay\":{\"id\":\"34d77c37-5f1e-4f37-9355-057937c6eb74\",\"type\":\"BoxAnnotation\"}},\"id\":\"7447d43f-7654-43d4-950c-9cfbf4008557\",\"type\":\"BoxZoomTool\"},{\"attributes\":{},\"id\":\"0f4f58da-f73d-4653-b7bf-29c18d785bbc\",\"type\":\"HelpTool\"},{\"attributes\":{},\"id\":\"122a518e-eb2a-423b-b732-600c1221e156\",\"type\":\"BasicTicker\"},{\"attributes\":{},\"id\":\"57453a57-6ebc-42e2-be24-eb513971461a\",\"type\":\"BasicTicker\"},{\"attributes\":{\"below\":[{\"id\":\"1c7f96b3-035a-4a6f-ad61-281271eb666b\",\"type\":\"LinearAxis\"}],\"left\":[{\"id\":\"4ff96b5a-9f17-4d7b-8466-3ed60c1495a5\",\"type\":\"LinearAxis\"}],\"plot_height\":250,\"plot_width\":250,\"renderers\":[{\"id\":\"1c7f96b3-035a-4a6f-ad61-281271eb666b\",\"type\":\"LinearAxis\"},{\"id\":\"5f51d3d1-a1b1-4db2-8dda-4f02c1013340\",\"type\":\"Grid\"},{\"id\":\"4ff96b5a-9f17-4d7b-8466-3ed60c1495a5\",\"type\":\"LinearAxis\"},{\"id\":\"b8fb65c1-6c1f-44f1-9a0d-4b601fbcc069\",\"type\":\"Grid\"},{\"id\":\"52e210c5-af70-42a9-ab5b-bbfd33d2097c\",\"type\":\"BoxAnnotation\"},{\"id\":\"82ebd45d-4ae1-4b76-9fa5-51667ccb4526\",\"type\":\"GlyphRenderer\"}],\"title\":null,\"toolbar\":{\"id\":\"04e35d71-c2c3-426e-a0f1-a4d203792204\",\"type\":\"Toolbar\"},\"toolbar_location\":null,\"x_range\":{\"id\":\"d4232851-7100-4bfd-a7aa-31aded8fa1b4\",\"type\":\"DataRange1d\"},\"x_scale\":{\"id\":\"a820ced8-e769-435d-abd2-00f34ea33a0f\",\"type\":\"LinearScale\"},\"y_range\":{\"id\":\"84dd2df4-742c-4a3b-bf89-4f8c606ed730\",\"type\":\"DataRange1d\"},\"y_scale\":{\"id\":\"3ad14b9b-0e3b-443e-b70e-62a227ab04ee\",\"type\":\"LinearScale\"}},\"id\":\"ff2dd39a-9ead-4e90-a889-86a1829cc9e2\",\"subtype\":\"Figure\",\"type\":\"Plot\"},{\"attributes\":{},\"id\":\"a820ced8-e769-435d-abd2-00f34ea33a0f\",\"type\":\"LinearScale\"},{\"attributes\":{},\"id\":\"2f63958b-1a3c-41fe-b913-b636df977407\",\"type\":\"PanTool\"},{\"attributes\":{\"bottom_units\":\"screen\",\"fill_alpha\":{\"value\":0.5},\"fill_color\":{\"value\":\"lightgrey\"},\"left_units\":\"screen\",\"level\":\"overlay\",\"line_alpha\":{\"value\":1.0},\"line_color\":{\"value\":\"black\"},\"line_dash\":[4,4],\"line_width\":{\"value\":2},\"plot\":null,\"render_mode\":\"css\",\"right_units\":\"screen\",\"top_units\":\"screen\"},\"id\":\"0168fd43-d403-4dc9-afb1-d7adbb50d999\",\"type\":\"BoxAnnotation\"},{\"attributes\":{\"source\":{\"id\":\"e61898b7-68e7-4952-a0ff-1c549f177deb\",\"type\":\"ColumnDataSource\"}},\"id\":\"6ee351b8-5c7d-49d1-b53e-5981e3c18350\",\"type\":\"CDSView\"},{\"attributes\":{\"callback\":null},\"id\":\"84dd2df4-742c-4a3b-bf89-4f8c606ed730\",\"type\":\"DataRange1d\"},{\"attributes\":{\"formatter\":{\"id\":\"a7d51274-d8d7-4e4a-9d03-8ad5afc7637e\",\"type\":\"BasicTickFormatter\"},\"plot\":{\"id\":\"7aaf7621-b3a9-43ae-b353-6f82bad11c0b\",\"subtype\":\"Figure\",\"type\":\"Plot\"},\"ticker\":{\"id\":\"122a518e-eb2a-423b-b732-600c1221e156\",\"type\":\"BasicTicker\"}},\"id\":\"7563cca7-bc0f-4321-a0bf-763a25b2ab33\",\"type\":\"LinearAxis\"},{\"attributes\":{},\"id\":\"9aad15bf-4504-41e0-b1c1-7c3147aca6e4\",\"type\":\"SaveTool\"},{\"attributes\":{},\"id\":\"b850746b-4d4b-4bd5-ba6e-510047666db3\",\"type\":\"HelpTool\"},{\"attributes\":{\"overlay\":{\"id\":\"0168fd43-d403-4dc9-afb1-d7adbb50d999\",\"type\":\"BoxAnnotation\"}},\"id\":\"72be0db4-77c8-4b0b-b031-2cb6c4148c5d\",\"type\":\"BoxZoomTool\"},{\"attributes\":{},\"id\":\"c530f02a-2211-49e1-a22b-a453c1e749a5\",\"type\":\"PanTool\"},{\"attributes\":{},\"id\":\"5f2ecbaf-81f4-483a-b835-746cd05f6bfe\",\"type\":\"WheelZoomTool\"},{\"attributes\":{\"source\":{\"id\":\"1d67b690-b92a-4472-ac62-cea0316b9336\",\"type\":\"ColumnDataSource\"}},\"id\":\"7d2489a2-df53-4bde-8cdc-cb72d97c27e0\",\"type\":\"CDSView\"},{\"attributes\":{\"fill_alpha\":{\"value\":0.1},\"fill_color\":{\"value\":\"#1f77b4\"},\"line_alpha\":{\"value\":0.1},\"line_color\":{\"value\":\"#1f77b4\"},\"size\":{\"units\":\"screen\",\"value\":10},\"x\":{\"field\":\"x\"},\"y\":{\"field\":\"y\"}},\"id\":\"a6c11a18-2de7-4100-9a2c-02e9359537da\",\"type\":\"Square\"},{\"attributes\":{},\"id\":\"46ce50ee-9ce4-4b81-a31d-0ad1dd6d9569\",\"type\":\"ResetTool\"},{\"attributes\":{\"callback\":null},\"id\":\"d4232851-7100-4bfd-a7aa-31aded8fa1b4\",\"type\":\"DataRange1d\"},{\"attributes\":{\"formatter\":{\"id\":\"dfb595c7-1e07-414b-be9e-4f38013e2434\",\"type\":\"BasicTickFormatter\"},\"plot\":{\"id\":\"c41648be-65f1-43c7-be76-4ed9f7656976\",\"subtype\":\"Figure\",\"type\":\"Plot\"},\"ticker\":{\"id\":\"90297142-32ad-4c11-9f8a-6129e0f36033\",\"type\":\"BasicTicker\"}},\"id\":\"418720e0-b1e5-4fc4-9c1c-85d29a61d31b\",\"type\":\"LinearAxis\"},{\"attributes\":{\"active_drag\":\"auto\",\"active_inspect\":\"auto\",\"active_scroll\":\"auto\",\"active_tap\":\"auto\",\"tools\":[{\"id\":\"c530f02a-2211-49e1-a22b-a453c1e749a5\",\"type\":\"PanTool\"},{\"id\":\"4bc96f94-6b58-4aaa-82e4-9f8c30d5d9e4\",\"type\":\"WheelZoomTool\"},{\"id\":\"1ca45f66-9c8a-4cf3-a116-a38be2db5130\",\"type\":\"BoxZoomTool\"},{\"id\":\"ffed1821-541d-4967-8dda-bccb7de1fc99\",\"type\":\"SaveTool\"},{\"id\":\"e3c40e84-d300-432c-a40d-86cd182b454a\",\"type\":\"ResetTool\"},{\"id\":\"7faf782b-ab2f-444e-ae8f-f713bdb3508b\",\"type\":\"HelpTool\"}]},\"id\":\"04e35d71-c2c3-426e-a0f1-a4d203792204\",\"type\":\"Toolbar\"},{\"attributes\":{\"children\":[{\"id\":\"0c9f4ea4-a888-4741-bc3d-0b10c4fcdcd9\",\"type\":\"Row\"}]},\"id\":\"d36176ab-4e3d-4f6d-9d4a-627c34e499df\",\"type\":\"Column\"},{\"attributes\":{\"overlay\":{\"id\":\"52e210c5-af70-42a9-ab5b-bbfd33d2097c\",\"type\":\"BoxAnnotation\"}},\"id\":\"1ca45f66-9c8a-4cf3-a116-a38be2db5130\",\"type\":\"BoxZoomTool\"},{\"attributes\":{\"formatter\":{\"id\":\"598d1322-348c-4cd7-849e-613af71ffb8a\",\"type\":\"BasicTickFormatter\"},\"plot\":{\"id\":\"ff2dd39a-9ead-4e90-a889-86a1829cc9e2\",\"subtype\":\"Figure\",\"type\":\"Plot\"},\"ticker\":{\"id\":\"57453a57-6ebc-42e2-be24-eb513971461a\",\"type\":\"BasicTicker\"}},\"id\":\"4ff96b5a-9f17-4d7b-8466-3ed60c1495a5\",\"type\":\"LinearAxis\"},{\"attributes\":{\"dimension\":1,\"plot\":{\"id\":\"ff2dd39a-9ead-4e90-a889-86a1829cc9e2\",\"subtype\":\"Figure\",\"type\":\"Plot\"},\"ticker\":{\"id\":\"57453a57-6ebc-42e2-be24-eb513971461a\",\"type\":\"BasicTicker\"}},\"id\":\"b8fb65c1-6c1f-44f1-9a0d-4b601fbcc069\",\"type\":\"Grid\"},{\"attributes\":{},\"id\":\"598d1322-348c-4cd7-849e-613af71ffb8a\",\"type\":\"BasicTickFormatter\"},{\"attributes\":{},\"id\":\"4bc96f94-6b58-4aaa-82e4-9f8c30d5d9e4\",\"type\":\"WheelZoomTool\"},{\"attributes\":{\"callback\":null,\"column_names\":[\"x\",\"y\"],\"data\":{\"x\":{\"__ndarray__\":\"AAAAAAAAAACRGkt8Vz/AP5EaS3xXP9A/2qdwOgNf2D+RGkt8Vz/gPzXhXVstT+Q/2qdwOgNf6D9+boMZ2W7sP5EaS3xXP/A/433Ua0JH8j814V1bLU/0P4dE50oYV/Y/2qdwOgNf+D8sC/op7mb6P35ugxnZbvw/0NEMCcR2/j+RGkt8Vz8AQDrMD/RMQwFA433Ua0JHAkCML5njN0sDQDXhXVstTwRA3pIi0yJTBUCHROdKGFcGQDD2q8INWwdA2qdwOgNfCECDWTWy+GIJQCwL+inuZgpA1by+oeNqC0B+boMZ2W4MQCcgSJHOcg1A0NEMCcR2DkB5g9GAuXoPQJEaS3xXPxBAZnMtOFLBEEA6zA/0TEMRQA8l8q9HxRFA433Ua0JHEkC41rYnPckSQIwvmeM3SxNAYYh7nzLNE0A14V1bLU8UQAo6QBco0RRA3pIi0yJTFUCz6wSPHdUVQIdE50oYVxZAXJ3JBhPZFkAw9qvCDVsXQAVPjn4I3RdA2qdwOgNfGECuAFP2/eAYQINZNbL4YhlAV7IXbvPkGUAsC/op7mYaQABk3OXo6BpA1by+oeNqG0CpFaFd3uwbQH5ugxnZbhxAUsdl1dPwHEAnIEiRznIdQPt4Kk3J9B1A0NEMCcR2HkCkKu/EvvgeQHmD0YC5eh9ATdyzPLT8H0CRGkt8Vz8gQPtGPNpUgCBAZnMtOFLBIEDQnx6WTwIhQDrMD/RMQyFApPgAUkqEIUAPJfKvR8UhQHlR4w1FBiJA433Ua0JHIkBNqsXJP4giQLjWtic9ySJAIgOohToKI0CML5njN0sjQPZbikE1jCNAYYh7nzLNI0DLtGz9Lw4kQDXhXVstTyRAoA1PuSqQJEAKOkAXKNEkQHRmMXUlEiVA3pIi0yJTJUBJvxMxIJQlQLPrBI8d1SVAHRj27BoWJkCHROdKGFcmQPJw2KgVmCZAXJ3JBhPZJkDGybpkEBonQDD2q8INWydAmyKdIAucJ0AFT45+CN0nQG97f9wFHihA2qdwOgNfKEBE1GGYAKAoQK4AU/b94ChAGC1EVPshKUA=\",\"dtype\":\"float64\",\"shape\":[100]},\"y\":{\"__ndarray__\":\"AAAAAAAA8D+yzYPRkeXxP7ihgYdrgfM/rb0yquzM9D/245G2v8L1P87bFRfwXvY/2iiqbvqe9j/kKcny1oH2P2p9E6r9B/Y/t9rofWQz9T/V4vYmdwf0P338ARYJifI/RdfykkG+8D9ETRXIBF3tPyugTMuSxOg/JsOhHxvG4z8XRefmX+zcP4TfmO5l1dE/4IAW3tnTuT9YVAYbRxi0v26sY4ZobNC/kDyhvhiP278fJw0IIiDjv8rnndrvKei/4klI9jTQ7L9i6ms85X/wvyB3ITG5U/K/nEtETQ/c879kyJx6lxL1v3a2nZlS8vW/jCxGFqd39r9Ikzy8b6D2v7IbDo0EbPa/VCYsdD3b9b+XNIXNbvD0vyX2CM1fr/O/Ewqe7jod8r/hQKSueEDwv7KoVMWJQey/OkhCQL6N57//x2pm7XjivwiD/egKMNq/XFreULgEzr/Qjtyf0basv8jQmYTCjb8/YDFTHT090z9zKk7fyUfePwQ64frNauQ/Br4PG51d6T/UmpIn8OftPyz+X62J+/A/JAqwLSe98j/wrAGOlDH0P+CqQLrTUvU/YyQQQD0c9j8rs4V6k4r2Pw41lOsPnPY/THYpjGpQ9j9uO9/02qj1P8SNeVoTqPQ/wTrZcjVS8z/dcSFwwazxPxnyVbD+fO8/vXE0K8Ye6z+6a09r11DmP/7dFbP8JuE/Qpmw0PVs1z8YNwvg51bIP4A3qsMi+oY/tJyl3I19xb9ijLYfHAnWv+4O12hWfOC/dgkSnTaw5b/Eiyd/wIrqv1M5qN/19+6/bw/Nc81y8b9c/veZwCHzv4mZSz7lgfS/nqNH2pCN9b9CMd7bdED2vxjtFmOwl/a/lMBYHdyR9r+wHoMNEC/2vww2BinjcPW/NHKRy2Ra9L+mR1EcEPDyv8K/p5i5N/G/fKrPIO5w7r87P/7sBPXpv0iCivwvDuW/bUUVRECh3788RM3h1qPUv0i1wErRosK/wBtiTTs7oT9AtNpTsC7LP571ygVNz9g/audXAYjQ4T/buikNCPDmP2xZBmcMses//P//////7z8=\",\"dtype\":\"float64\",\"shape\":[100]}},\"selected\":null,\"selection_policy\":null},\"id\":\"e61898b7-68e7-4952-a0ff-1c549f177deb\",\"type\":\"ColumnDataSource\"},{\"attributes\":{\"data_source\":{\"id\":\"e61898b7-68e7-4952-a0ff-1c549f177deb\",\"type\":\"ColumnDataSource\"},\"glyph\":{\"id\":\"11889e1a-1468-4e1e-b3b6-f661725e7a2d\",\"type\":\"Square\"},\"hover_glyph\":null,\"muted_glyph\":null,\"nonselection_glyph\":{\"id\":\"a6c11a18-2de7-4100-9a2c-02e9359537da\",\"type\":\"Square\"},\"selection_glyph\":null,\"view\":{\"id\":\"6ee351b8-5c7d-49d1-b53e-5981e3c18350\",\"type\":\"CDSView\"}},\"id\":\"82ebd45d-4ae1-4b76-9fa5-51667ccb4526\",\"type\":\"GlyphRenderer\"},{\"attributes\":{\"plot\":{\"id\":\"ff2dd39a-9ead-4e90-a889-86a1829cc9e2\",\"subtype\":\"Figure\",\"type\":\"Plot\"},\"ticker\":{\"id\":\"0c8d92f6-0b80-415b-beb0-d679a6ead739\",\"type\":\"BasicTicker\"}},\"id\":\"5f51d3d1-a1b1-4db2-8dda-4f02c1013340\",\"type\":\"Grid\"},{\"attributes\":{},\"id\":\"3ad14b9b-0e3b-443e-b70e-62a227ab04ee\",\"type\":\"LinearScale\"},{\"attributes\":{\"fill_alpha\":{\"value\":0.5},\"fill_color\":{\"value\":\"olive\"},\"line_alpha\":{\"value\":0.5},\"line_color\":{\"value\":\"olive\"},\"size\":{\"units\":\"screen\",\"value\":10},\"x\":{\"field\":\"x\"},\"y\":{\"field\":\"y\"}},\"id\":\"11889e1a-1468-4e1e-b3b6-f661725e7a2d\",\"type\":\"Square\"},{\"attributes\":{\"formatter\":{\"id\":\"7747567b-e7c2-4cbe-8c72-e45cba6eda12\",\"type\":\"BasicTickFormatter\"},\"plot\":{\"id\":\"ff2dd39a-9ead-4e90-a889-86a1829cc9e2\",\"subtype\":\"Figure\",\"type\":\"Plot\"},\"ticker\":{\"id\":\"0c8d92f6-0b80-415b-beb0-d679a6ead739\",\"type\":\"BasicTicker\"}},\"id\":\"1c7f96b3-035a-4a6f-ad61-281271eb666b\",\"type\":\"LinearAxis\"},{\"attributes\":{},\"id\":\"7747567b-e7c2-4cbe-8c72-e45cba6eda12\",\"type\":\"BasicTickFormatter\"},{\"attributes\":{},\"id\":\"a7d51274-d8d7-4e4a-9d03-8ad5afc7637e\",\"type\":\"BasicTickFormatter\"},{\"attributes\":{},\"id\":\"0c8d92f6-0b80-415b-beb0-d679a6ead739\",\"type\":\"BasicTicker\"}],\"root_ids\":[\"d36176ab-4e3d-4f6d-9d4a-627c34e499df\"]},\"title\":\"Bokeh Application\",\"version\":\"0.12.15\"}};\n",
       "  var render_items = [{\"docid\":\"df491136-73e8-4cbc-9dd9-89db4a21e771\",\"elementid\":\"90c74d70-8d4e-40c8-9ee3-271f6d391473\",\"modelid\":\"d36176ab-4e3d-4f6d-9d4a-627c34e499df\"}];\n",
       "  root.Bokeh.embed.embed_items_notebook(docs_json, render_items);\n",
       "\n",
       "  }\n",
       "  if (root.Bokeh !== undefined) {\n",
       "    embed_document(root);\n",
       "  } else {\n",
       "    var attempts = 0;\n",
       "    var timer = setInterval(function(root) {\n",
       "      if (root.Bokeh !== undefined) {\n",
       "        embed_document(root);\n",
       "        clearInterval(timer);\n",
       "      }\n",
       "      attempts++;\n",
       "      if (attempts > 100) {\n",
       "        console.log(\"Bokeh: ERROR: Unable to run BokehJS code because BokehJS library is missing\")\n",
       "        clearInterval(timer);\n",
       "      }\n",
       "    }, 10, root)\n",
       "  }\n",
       "})(window);"
      ],
      "application/vnd.bokehjs_exec.v0+json": ""
     },
     "metadata": {
      "application/vnd.bokehjs_exec.v0+json": {
       "id": "d36176ab-4e3d-4f6d-9d4a-627c34e499df"
      }
     },
     "output_type": "display_data"
    }
   ],
   "source": [
    "# prepare some data\n",
    "N = 100\n",
    "x = np.linspace(0, 4*np.pi, N)\n",
    "y0 = np.sin(x)\n",
    "y1 = np.cos(x)\n",
    "y2 = np.sin(x) + np.cos(x)\n",
    "\n",
    "# output to static HTML file\n",
    "output_file(\"linked_panning.html\")\n",
    "\n",
    "# create a new plot\n",
    "s1 = figure(width=250, plot_height=250, title=None)\n",
    "s1.circle(x, y0, size=10, color=\"navy\", alpha=0.5)\n",
    "\n",
    "# NEW: create a new plot and share both ranges\n",
    "s2 = figure(width=250, height=250, x_range=s1.x_range, y_range=s1.y_range, title=None)\n",
    "s2.triangle(x, y1, size=10, color=\"firebrick\", alpha=0.5)\n",
    "\n",
    "# NEW: create a new plot and share only one range\n",
    "s3 = figure(width=250, height=250, x_range=s1.x_range, title=None)\n",
    "s3.square(x, y2, size=10, color=\"olive\", alpha=0.5)\n",
    "\n",
    "# NEW: put the subplots in a gridplot\n",
    "p = gridplot([[s1, s2, s3]], toolbar_location=None)\n",
    "\n",
    "# show the results\n",
    "show(p)"
   ]
  },
  {
   "cell_type": "markdown",
   "metadata": {},
   "source": [
    "# Data Processing"
   ]
  },
  {
   "cell_type": "code",
   "execution_count": 12,
   "metadata": {},
   "outputs": [],
   "source": [
    "df = pd.read_csv('data/train.csv')"
   ]
  },
  {
   "cell_type": "code",
   "execution_count": 13,
   "metadata": {},
   "outputs": [],
   "source": [
    "Y = np.array(df['SalePrice'])\n",
    "df.drop(['SalePrice', 'Id'], axis=1, inplace=True)"
   ]
  },
  {
   "cell_type": "code",
   "execution_count": 14,
   "metadata": {},
   "outputs": [
    {
     "name": "stdout",
     "output_type": "stream",
     "text": [
      "<class 'pandas.core.frame.DataFrame'>\n",
      "RangeIndex: 1460 entries, 0 to 1459\n",
      "Data columns (total 79 columns):\n",
      "MSSubClass       1460 non-null int64\n",
      "MSZoning         1460 non-null object\n",
      "LotFrontage      1201 non-null float64\n",
      "LotArea          1460 non-null int64\n",
      "Street           1460 non-null object\n",
      "Alley            91 non-null object\n",
      "LotShape         1460 non-null object\n",
      "LandContour      1460 non-null object\n",
      "Utilities        1460 non-null object\n",
      "LotConfig        1460 non-null object\n",
      "LandSlope        1460 non-null object\n",
      "Neighborhood     1460 non-null object\n",
      "Condition1       1460 non-null object\n",
      "Condition2       1460 non-null object\n",
      "BldgType         1460 non-null object\n",
      "HouseStyle       1460 non-null object\n",
      "OverallQual      1460 non-null int64\n",
      "OverallCond      1460 non-null int64\n",
      "YearBuilt        1460 non-null int64\n",
      "YearRemodAdd     1460 non-null int64\n",
      "RoofStyle        1460 non-null object\n",
      "RoofMatl         1460 non-null object\n",
      "Exterior1st      1460 non-null object\n",
      "Exterior2nd      1460 non-null object\n",
      "MasVnrType       1452 non-null object\n",
      "MasVnrArea       1452 non-null float64\n",
      "ExterQual        1460 non-null object\n",
      "ExterCond        1460 non-null object\n",
      "Foundation       1460 non-null object\n",
      "BsmtQual         1423 non-null object\n",
      "BsmtCond         1423 non-null object\n",
      "BsmtExposure     1422 non-null object\n",
      "BsmtFinType1     1423 non-null object\n",
      "BsmtFinSF1       1460 non-null int64\n",
      "BsmtFinType2     1422 non-null object\n",
      "BsmtFinSF2       1460 non-null int64\n",
      "BsmtUnfSF        1460 non-null int64\n",
      "TotalBsmtSF      1460 non-null int64\n",
      "Heating          1460 non-null object\n",
      "HeatingQC        1460 non-null object\n",
      "CentralAir       1460 non-null object\n",
      "Electrical       1459 non-null object\n",
      "1stFlrSF         1460 non-null int64\n",
      "2ndFlrSF         1460 non-null int64\n",
      "LowQualFinSF     1460 non-null int64\n",
      "GrLivArea        1460 non-null int64\n",
      "BsmtFullBath     1460 non-null int64\n",
      "BsmtHalfBath     1460 non-null int64\n",
      "FullBath         1460 non-null int64\n",
      "HalfBath         1460 non-null int64\n",
      "BedroomAbvGr     1460 non-null int64\n",
      "KitchenAbvGr     1460 non-null int64\n",
      "KitchenQual      1460 non-null object\n",
      "TotRmsAbvGrd     1460 non-null int64\n",
      "Functional       1460 non-null object\n",
      "Fireplaces       1460 non-null int64\n",
      "FireplaceQu      770 non-null object\n",
      "GarageType       1379 non-null object\n",
      "GarageYrBlt      1379 non-null float64\n",
      "GarageFinish     1379 non-null object\n",
      "GarageCars       1460 non-null int64\n",
      "GarageArea       1460 non-null int64\n",
      "GarageQual       1379 non-null object\n",
      "GarageCond       1379 non-null object\n",
      "PavedDrive       1460 non-null object\n",
      "WoodDeckSF       1460 non-null int64\n",
      "OpenPorchSF      1460 non-null int64\n",
      "EnclosedPorch    1460 non-null int64\n",
      "3SsnPorch        1460 non-null int64\n",
      "ScreenPorch      1460 non-null int64\n",
      "PoolArea         1460 non-null int64\n",
      "PoolQC           7 non-null object\n",
      "Fence            281 non-null object\n",
      "MiscFeature      54 non-null object\n",
      "MiscVal          1460 non-null int64\n",
      "MoSold           1460 non-null int64\n",
      "YrSold           1460 non-null int64\n",
      "SaleType         1460 non-null object\n",
      "SaleCondition    1460 non-null object\n",
      "dtypes: float64(3), int64(33), object(43)\n",
      "memory usage: 901.2+ KB\n"
     ]
    }
   ],
   "source": [
    "df.info()"
   ]
  },
  {
   "cell_type": "code",
   "execution_count": 15,
   "metadata": {},
   "outputs": [],
   "source": [
    "# fillna\n",
    "dico_fill_na = {}\n",
    "col_drop = ['Id']\n",
    "for col in df.columns:\n",
    "    if df[col].isnull().sum() > 8 * len(df) / 10:\n",
    "        col_drop.append(col)\n",
    "        df.drop(col, axis=1, inplace=True)\n",
    "    elif str(df[col].dtype).endswith('64'):\n",
    "        dico_fill_na[col] = df[col].mean()\n",
    "        df[col].fillna(dico_fill_na[col], inplace=True)\n",
    "    else:\n",
    "        dico_fill_na[col] = df[col].mode()[0]\n",
    "        df[col].fillna(dico_fill_na[col], inplace=True)\n",
    "        df[col] = df[col].astype('category').cat.codes"
   ]
  },
  {
   "cell_type": "code",
   "execution_count": 16,
   "metadata": {},
   "outputs": [
    {
     "data": {
      "text/plain": [
       "<matplotlib.axes._subplots.AxesSubplot at 0x114086b70>"
      ]
     },
     "execution_count": 16,
     "metadata": {},
     "output_type": "execute_result"
    },
    {
     "data": {
      "image/png": "[encoded data removed]",
      "text/plain": [
       "<Figure size 432x288 with 1 Axes>"
      ]
     },
     "metadata": {},
     "output_type": "display_data"
    }
   ],
   "source": [
    "sns.kdeplot(Y, shade=\"True\", color=\"green\")"
   ]
  },
  {
   "cell_type": "markdown",
   "metadata": {},
   "source": [
    "# Modelisation Part"
   ]
  },
  {
   "cell_type": "code",
   "execution_count": 17,
   "metadata": {},
   "outputs": [],
   "source": [
    "def error_function(y_pred, y_true):\n",
    "    return np.sqrt(np.mean((np.log(y_pred) - np.log(y_true)) ** 2))"
   ]
  },
  {
   "cell_type": "code",
   "execution_count": 18,
   "metadata": {},
   "outputs": [],
   "source": [
    "# train_test_split\n",
    "X = np.array(df)\n",
    "X_train, X_test, y_train, y_test = train_test_split(\n",
    "    X, np.array(Y), test_size=0.2)"
   ]
  },
  {
   "cell_type": "markdown",
   "metadata": {},
   "source": [
    "### RF"
   ]
  },
  {
   "cell_type": "code",
   "execution_count": 19,
   "metadata": {},
   "outputs": [
    {
     "name": "stdout",
     "output_type": "stream",
     "text": [
      "TypeError\n"
     ]
    }
   ],
   "source": [
    "clf = RandomForestRegressor(n_estimators=100)\n",
    "try:\n",
    "    cross_val_score(clf, X, Y, cv=5, scoring=error_function)\n",
    "except TypeError:\n",
    "    print(\"TypeError\")\n",
    "# clf.fit(X_train, y_train)\n",
    "# y_pred = clf.predict(X_test)\n",
    "# error_function(y_pred, y_test)"
   ]
  },
  {
   "cell_type": "markdown",
   "metadata": {},
   "source": [
    "### Extra_Trees"
   ]
  },
  {
   "cell_type": "code",
   "execution_count": 20,
   "metadata": {},
   "outputs": [
    {
     "data": {
      "text/plain": [
       "0.15522587056207332"
      ]
     },
     "execution_count": 20,
     "metadata": {},
     "output_type": "execute_result"
    }
   ],
   "source": [
    "clf = ExtraTreesRegressor(n_estimators=100)\n",
    "clf.fit(X_train, y_train)\n",
    "y_pred = clf.predict(X_test)\n",
    "error_function(y_pred, y_test)"
   ]
  },
  {
   "cell_type": "markdown",
   "metadata": {},
   "source": [
    "### Linear Regression"
   ]
  },
  {
   "cell_type": "code",
   "execution_count": 460,
   "metadata": {},
   "outputs": [
    {
     "data": {
      "text/plain": [
       "0.16755064605088626"
      ]
     },
     "execution_count": 460,
     "metadata": {},
     "output_type": "execute_result"
    }
   ],
   "source": [
    "clf = LinearRegression(n_jobs=-1)\n",
    "clf.fit(X_train, y_train)\n",
    "y_pred = clf.predict(X_test)\n",
    "error_function(y_pred, y_test)"
   ]
  },
  {
   "cell_type": "markdown",
   "metadata": {},
   "source": [
    "### Kernel Ridge"
   ]
  },
  {
   "cell_type": "code",
   "execution_count": 441,
   "metadata": {},
   "outputs": [
    {
     "data": {
      "text/plain": [
       "0.16754574470067204"
      ]
     },
     "execution_count": 441,
     "metadata": {},
     "output_type": "execute_result"
    }
   ],
   "source": [
    "clf = KernelRidge(kernel='linear')\n",
    "clf.fit(X_train, y_train)\n",
    "y_pred = clf.predict(X_test)\n",
    "error_function(y_pred, y_test)"
   ]
  },
  {
   "cell_type": "markdown",
   "metadata": {},
   "source": [
    "### Ridge"
   ]
  },
  {
   "cell_type": "code",
   "execution_count": 454,
   "metadata": {},
   "outputs": [
    {
     "data": {
      "text/plain": [
       "0.16527451742535135"
      ]
     },
     "execution_count": 454,
     "metadata": {},
     "output_type": "execute_result"
    }
   ],
   "source": [
    "clf = Ridge(alpha=200)\n",
    "clf.fit(X_train, y_train)\n",
    "y_pred = clf.predict(X_test)\n",
    "error_function(y_pred, y_test)"
   ]
  },
  {
   "cell_type": "markdown",
   "metadata": {},
   "source": [
    "### Lasso"
   ]
  },
  {
   "cell_type": "code",
   "execution_count": 459,
   "metadata": {},
   "outputs": [
    {
     "data": {
      "text/plain": [
       "0.16574578578014884"
      ]
     },
     "execution_count": 459,
     "metadata": {},
     "output_type": "execute_result"
    }
   ],
   "source": [
    "clf = Lasso(alpha=500)\n",
    "clf.fit(X_train, y_train)\n",
    "y_pred = clf.predict(X_test)\n",
    "error_function(y_pred, y_test)"
   ]
  },
  {
   "cell_type": "markdown",
   "metadata": {},
   "source": [
    "### ElasticNet"
   ]
  },
  {
   "cell_type": "code",
   "execution_count": 439,
   "metadata": {},
   "outputs": [
    {
     "name": "stderr",
     "output_type": "stream",
     "text": [
      "/usr/local/lib/python3.6/site-packages/sklearn/linear_model/coordinate_descent.py:484: ConvergenceWarning: Objective did not converge. You might want to increase the number of iterations. Fitting data with very small alpha may cause precision problems.\n",
      "  ConvergenceWarning)\n"
     ]
    },
    {
     "data": {
      "text/plain": [
       "0.16714250803062183"
      ]
     },
     "execution_count": 439,
     "metadata": {},
     "output_type": "execute_result"
    }
   ],
   "source": [
    "clf = ElasticNet()\n",
    "clf.fit(X_train, y_train)\n",
    "y_pred = clf.predict(X_test)\n",
    "error_function(y_pred, y_test)"
   ]
  },
  {
   "cell_type": "markdown",
   "metadata": {},
   "source": [
    "### XGBoost"
   ]
  },
  {
   "cell_type": "code",
   "execution_count": 489,
   "metadata": {},
   "outputs": [
    {
     "name": "stdout",
     "output_type": "stream",
     "text": [
      "0.14713814515266607\n",
      "0.14457595064328657\n",
      "0.14723523152677598\n",
      "0.15914105028571895\n",
      "0.1594101332592231\n",
      "0.16643633000798125\n",
      "0.18394795570704806\n",
      "0.1711196311910514\n",
      "0.19091802880338898\n"
     ]
    }
   ],
   "source": [
    "for i in range(1, 10):\n",
    "    clf = xgb.XGBRegressor(learning_rate=0.1 * i)\n",
    "    clf.fit(X_train, y_train)\n",
    "    y_pred = clf.predict(X_test)\n",
    "    print(error_function(y_pred, y_test))"
   ]
  },
  {
   "cell_type": "markdown",
   "metadata": {},
   "source": [
    "### on garde seulement les features importantes"
   ]
  },
  {
   "cell_type": "code",
   "execution_count": null,
   "metadata": {},
   "outputs": [],
   "source": []
  },
  {
   "cell_type": "code",
   "execution_count": 22,
   "metadata": {},
   "outputs": [],
   "source": [
    "clf_bis = RandomForestRegressor(n_estimators=100)\n",
    "clf_bis.fit(X_train, y_train)\n",
    "y_pred = clf_bis.predict(X_test)"
   ]
  },
  {
   "cell_type": "code",
   "execution_count": 355,
   "metadata": {},
   "outputs": [
    {
     "data": {
      "text/plain": [
       "(array([15, 44]),)"
      ]
     },
     "execution_count": 355,
     "metadata": {},
     "output_type": "execute_result"
    }
   ],
   "source": [
    "np.where(clf.feature_importances_ > 0.1)"
   ]
  },
  {
   "cell_type": "code",
   "execution_count": 23,
   "metadata": {},
   "outputs": [
    {
     "data": {
      "text/plain": [
       "0.16184842144479433"
      ]
     },
     "execution_count": 23,
     "metadata": {},
     "output_type": "execute_result"
    }
   ],
   "source": [
    "error_function(y_pred=y_pred, y_true=y_test)"
   ]
  },
  {
   "cell_type": "code",
   "execution_count": 30,
   "metadata": {},
   "outputs": [
    {
     "data": {
      "text/html": [
       "\n",
       "<div class=\"bk-root\">\n",
       "    <div class=\"bk-plotdiv\" id=\"b8d56a77-1896-41b3-bc57-8fe4f50d19b6\"></div>\n",
       "</div>"
      ]
     },
     "metadata": {},
     "output_type": "display_data"
    },
    {
     "data": {
      "application/javascript": [
       "(function(root) {\n",
       "  function embed_document(root) {\n",
       "    \n",
       "  var docs_json = {\"69e9460b-961a-498d-970c-6b7af06cdaf2\":{\"roots\":{\"references\":[{\"attributes\":{\"axis_label\":\"particles\",\"formatter\":{\"id\":\"3d8704c0-a869-462a-9616-d4aa3059e37a\",\"type\":\"BasicTickFormatter\"},\"plot\":{\"id\":\"df3b9286-a138-4545-89d9-30fcc0ad59c2\",\"subtype\":\"Figure\",\"type\":\"Plot\"},\"ticker\":{\"id\":\"f432347f-6868-4657-81c8-8333e8a25a94\",\"type\":\"BasicTicker\"}},\"id\":\"3af2e081-efa2-4118-91a3-29d305907b14\",\"type\":\"LinearAxis\"},{\"attributes\":{\"callback\":null,\"end\":1000000,\"start\":100},\"id\":\"ca79e183-f5b1-4f5f-a29e-cc414ffc58a5\",\"type\":\"Range1d\"},{\"attributes\":{},\"id\":\"a50f4802-3db7-4efb-bc2b-6ab7e69e478d\",\"type\":\"ResetTool\"},{\"attributes\":{\"callback\":null,\"column_names\":[\"x\",\"y\"],\"data\":{\"x\":[144500,139900,124000,133900,275000,145000,142000,257000,170000,229000,115000,272000,127000,100000,256000,272000,147000,79900,370878,253000,125000,108500,152000,123500,108480,34900,110000,200000,211000,91500,135000,150750,185000,220000,320000,39300,157000,485000,131000,157000,269500,119900,89000,161500,190000,394432,105000,210000,144000,118000,118000,372500,91000,177500,151500,167000,243000,290000,154300,235000,142500,107500,119750,150000,146000,127000,224900,126000,122000,178000,318000,231500,279500,108000,174000,116900,135000,184000,125000,250000,213500,185000,187750,290000,386250,139000,232600,161000,147000,133000,128000,176000,167500,140200,149300,148500,138000,224000,140000,35311,143000,172785,310000,120000,244400,98000,144900,440000,137500,194000,202500,285000,80000,228500,202900,215000,143000,144000,126000,139000,180500,110000,129900,109500,228950,274900,130000,333168,106500,133900,89500,95000,147000,132000,361919,260400,75500,385000,176000,134500,171000,200000,233000,258000,197900,383970,173000,289000,98300,315000,85000,227000,122900,270000,235000,175900,181000,178900,68500,119500,163000,128000,315750,112000,230000,145000,131500,148500,83000,171000,236500,161000,180500,115000,126500,83500,265979,165500,127000,72500,115000,131500,144152,140000,252000,179665,117000,128000,132000,451950,189000,145000,181500,120000,215000,285000,200000,163500,196000,168000,127000,169990,194500,120000,145000,84000,190000,179200,259500,151000,151400,173000,118000,175000,234000,126175,137000,466500,147500,183200,186700,128500,157000,268000,221500,136500,169000,271000,235000,217000,143000,325000,270000,61000,270000,155000,268000,137000,165500,145000,262280,159500,189000,62383,165150,171000,290000,186000,189000,103000,159500,136500,163000,119500,220000,415298,260000,219500,135000,143000,205000,142500,191000,130000,106000,152000,154000,193500,152000,226000,192000,97000,172500,169500,340000,176000,275000,132000,378500,64500,68400,97000,85000,165000,152000,249700,113000,305000,114500,114500,132000,99900],\"y\":{\"__ndarray__\":\"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\",\"dtype\":\"float64\",\"shape\":[292]}},\"selected\":null,\"selection_policy\":null},\"id\":\"571e5ee9-28b6-4473-9e05-92f2a515e23f\",\"type\":\"ColumnDataSource\"},{\"attributes\":{\"axis_label\":\"sections\",\"formatter\":{\"id\":\"3d223525-64e5-4f0e-b338-dd0f43d95e1f\",\"type\":\"BasicTickFormatter\"},\"plot\":{\"id\":\"df3b9286-a138-4545-89d9-30fcc0ad59c2\",\"subtype\":\"Figure\",\"type\":\"Plot\"},\"ticker\":{\"id\":\"54a8847d-68e7-4aeb-a4b0-6e46e0a77678\",\"type\":\"BasicTicker\"}},\"id\":\"b9ddf9af-4af5-492b-8826-3eacfca1e921\",\"type\":\"LinearAxis\"},{\"attributes\":{\"data_source\":{\"id\":\"571e5ee9-28b6-4473-9e05-92f2a515e23f\",\"type\":\"ColumnDataSource\"},\"glyph\":{\"id\":\"bd44c71a-b64a-46f5-888a-fe6f8b593521\",\"type\":\"Circle\"},\"hover_glyph\":null,\"muted_glyph\":null,\"nonselection_glyph\":{\"id\":\"0e74164b-dd6b-4e1b-9618-ae5401df583a\",\"type\":\"Circle\"},\"selection_glyph\":null,\"view\":{\"id\":\"60fda79c-a89f-4f85-a272-cbfc77aca066\",\"type\":\"CDSView\"}},\"id\":\"5186ceff-9829-4a1f-97a1-4686568f6158\",\"type\":\"GlyphRenderer\"},{\"attributes\":{},\"id\":\"6e10bf44-0d75-4f26-b364-fa4d83c8b3d2\",\"type\":\"HelpTool\"},{\"attributes\":{},\"id\":\"c3c32cdc-2edd-4e9e-900e-8a9c9a15a9ca\",\"type\":\"LinearScale\"},{\"attributes\":{\"plot\":{\"id\":\"df3b9286-a138-4545-89d9-30fcc0ad59c2\",\"subtype\":\"Figure\",\"type\":\"Plot\"},\"ticker\":{\"id\":\"54a8847d-68e7-4aeb-a4b0-6e46e0a77678\",\"type\":\"BasicTicker\"}},\"id\":\"6a9a0777-1d40-4201-8183-05012b58e6d8\",\"type\":\"Grid\"},{\"attributes\":{\"bottom_units\":\"screen\",\"fill_alpha\":{\"value\":0.5},\"fill_color\":{\"value\":\"lightgrey\"},\"left_units\":\"screen\",\"level\":\"overlay\",\"line_alpha\":{\"value\":1.0},\"line_color\":{\"value\":\"black\"},\"line_dash\":[4,4],\"line_width\":{\"value\":2},\"plot\":null,\"render_mode\":\"css\",\"right_units\":\"screen\",\"top_units\":\"screen\"},\"id\":\"e8ffdc16-9cbb-43f7-989b-dc0a2a2e26fc\",\"type\":\"BoxAnnotation\"},{\"attributes\":{},\"id\":\"aa067cb4-6267-437f-9499-b1145c6f5e86\",\"type\":\"SaveTool\"},{\"attributes\":{\"fill_color\":{\"value\":\"#1f77b4\"},\"line_color\":{\"value\":\"#1f77b4\"},\"x\":{\"field\":\"x\"},\"y\":{\"field\":\"y\"}},\"id\":\"bd44c71a-b64a-46f5-888a-fe6f8b593521\",\"type\":\"Circle\"},{\"attributes\":{},\"id\":\"14422e0b-117c-4328-b1f9-c148afce8dbf\",\"type\":\"WheelZoomTool\"},{\"attributes\":{\"plot\":null,\"text\":\"log axis example\"},\"id\":\"7424d2cf-df81-4b95-b9d8-7afb6610a0c9\",\"type\":\"Title\"},{\"attributes\":{\"below\":[{\"id\":\"b9ddf9af-4af5-492b-8826-3eacfca1e921\",\"type\":\"LinearAxis\"}],\"left\":[{\"id\":\"3af2e081-efa2-4118-91a3-29d305907b14\",\"type\":\"LinearAxis\"}],\"renderers\":[{\"id\":\"b9ddf9af-4af5-492b-8826-3eacfca1e921\",\"type\":\"LinearAxis\"},{\"id\":\"6a9a0777-1d40-4201-8183-05012b58e6d8\",\"type\":\"Grid\"},{\"id\":\"3af2e081-efa2-4118-91a3-29d305907b14\",\"type\":\"LinearAxis\"},{\"id\":\"c8384324-914f-45a9-a53b-5e01373cfa80\",\"type\":\"Grid\"},{\"id\":\"e8ffdc16-9cbb-43f7-989b-dc0a2a2e26fc\",\"type\":\"BoxAnnotation\"},{\"id\":\"5186ceff-9829-4a1f-97a1-4686568f6158\",\"type\":\"GlyphRenderer\"}],\"title\":{\"id\":\"7424d2cf-df81-4b95-b9d8-7afb6610a0c9\",\"type\":\"Title\"},\"toolbar\":{\"id\":\"89374501-c0cd-43bd-a644-2bda803b1752\",\"type\":\"Toolbar\"},\"x_range\":{\"id\":\"be52df46-ebbc-42d2-b905-60d25b2f894a\",\"type\":\"DataRange1d\"},\"x_scale\":{\"id\":\"7f444bb9-035d-4b4d-b315-f45d7a0e16ec\",\"type\":\"LinearScale\"},\"y_range\":{\"id\":\"ca79e183-f5b1-4f5f-a29e-cc414ffc58a5\",\"type\":\"Range1d\"},\"y_scale\":{\"id\":\"c3c32cdc-2edd-4e9e-900e-8a9c9a15a9ca\",\"type\":\"LinearScale\"}},\"id\":\"df3b9286-a138-4545-89d9-30fcc0ad59c2\",\"subtype\":\"Figure\",\"type\":\"Plot\"},{\"attributes\":{\"callback\":null},\"id\":\"be52df46-ebbc-42d2-b905-60d25b2f894a\",\"type\":\"DataRange1d\"},{\"attributes\":{},\"id\":\"3d223525-64e5-4f0e-b338-dd0f43d95e1f\",\"type\":\"BasicTickFormatter\"},{\"attributes\":{\"fill_alpha\":{\"value\":0.1},\"fill_color\":{\"value\":\"#1f77b4\"},\"line_alpha\":{\"value\":0.1},\"line_color\":{\"value\":\"#1f77b4\"},\"x\":{\"field\":\"x\"},\"y\":{\"field\":\"y\"}},\"id\":\"0e74164b-dd6b-4e1b-9618-ae5401df583a\",\"type\":\"Circle\"},{\"attributes\":{},\"id\":\"f718e5d6-2839-4f55-9980-1e90b5debc29\",\"type\":\"PanTool\"},{\"attributes\":{},\"id\":\"54a8847d-68e7-4aeb-a4b0-6e46e0a77678\",\"type\":\"BasicTicker\"},{\"attributes\":{\"source\":{\"id\":\"571e5ee9-28b6-4473-9e05-92f2a515e23f\",\"type\":\"ColumnDataSource\"}},\"id\":\"60fda79c-a89f-4f85-a272-cbfc77aca066\",\"type\":\"CDSView\"},{\"attributes\":{},\"id\":\"3d8704c0-a869-462a-9616-d4aa3059e37a\",\"type\":\"BasicTickFormatter\"},{\"attributes\":{},\"id\":\"7f444bb9-035d-4b4d-b315-f45d7a0e16ec\",\"type\":\"LinearScale\"},{\"attributes\":{\"active_drag\":\"auto\",\"active_inspect\":\"auto\",\"active_scroll\":\"auto\",\"active_tap\":\"auto\",\"tools\":[{\"id\":\"f718e5d6-2839-4f55-9980-1e90b5debc29\",\"type\":\"PanTool\"},{\"id\":\"14422e0b-117c-4328-b1f9-c148afce8dbf\",\"type\":\"WheelZoomTool\"},{\"id\":\"cf6e06c2-15bb-4cdc-b103-489df32fd310\",\"type\":\"BoxZoomTool\"},{\"id\":\"aa067cb4-6267-437f-9499-b1145c6f5e86\",\"type\":\"SaveTool\"},{\"id\":\"a50f4802-3db7-4efb-bc2b-6ab7e69e478d\",\"type\":\"ResetTool\"},{\"id\":\"6e10bf44-0d75-4f26-b364-fa4d83c8b3d2\",\"type\":\"HelpTool\"}]},\"id\":\"89374501-c0cd-43bd-a644-2bda803b1752\",\"type\":\"Toolbar\"},{\"attributes\":{\"dimension\":1,\"plot\":{\"id\":\"df3b9286-a138-4545-89d9-30fcc0ad59c2\",\"subtype\":\"Figure\",\"type\":\"Plot\"},\"ticker\":{\"id\":\"f432347f-6868-4657-81c8-8333e8a25a94\",\"type\":\"BasicTicker\"}},\"id\":\"c8384324-914f-45a9-a53b-5e01373cfa80\",\"type\":\"Grid\"},{\"attributes\":{\"overlay\":{\"id\":\"e8ffdc16-9cbb-43f7-989b-dc0a2a2e26fc\",\"type\":\"BoxAnnotation\"}},\"id\":\"cf6e06c2-15bb-4cdc-b103-489df32fd310\",\"type\":\"BoxZoomTool\"},{\"attributes\":{},\"id\":\"f432347f-6868-4657-81c8-8333e8a25a94\",\"type\":\"BasicTicker\"}],\"root_ids\":[\"df3b9286-a138-4545-89d9-30fcc0ad59c2\"]},\"title\":\"Bokeh Application\",\"version\":\"0.12.15\"}};\n",
       "  var render_items = [{\"docid\":\"69e9460b-961a-498d-970c-6b7af06cdaf2\",\"elementid\":\"b8d56a77-1896-41b3-bc57-8fe4f50d19b6\",\"modelid\":\"df3b9286-a138-4545-89d9-30fcc0ad59c2\"}];\n",
       "  root.Bokeh.embed.embed_items_notebook(docs_json, render_items);\n",
       "\n",
       "  }\n",
       "  if (root.Bokeh !== undefined) {\n",
       "    embed_document(root);\n",
       "  } else {\n",
       "    var attempts = 0;\n",
       "    var timer = setInterval(function(root) {\n",
       "      if (root.Bokeh !== undefined) {\n",
       "        embed_document(root);\n",
       "        clearInterval(timer);\n",
       "      }\n",
       "      attempts++;\n",
       "      if (attempts > 100) {\n",
       "        console.log(\"Bokeh: ERROR: Unable to run BokehJS code because BokehJS library is missing\")\n",
       "        clearInterval(timer);\n",
       "      }\n",
       "    }, 10, root)\n",
       "  }\n",
       "})(window);"
      ],
      "application/vnd.bokehjs_exec.v0+json": ""
     },
     "metadata": {
      "application/vnd.bokehjs_exec.v0+json": {
       "id": "df3b9286-a138-4545-89d9-30fcc0ad59c2"
      }
     },
     "output_type": "display_data"
    }
   ],
   "source": [
    "#output_notebook()\n",
    "p = figure(y_range=[100, 10 ** 6], title=\"log axis example\",\n",
    "   x_axis_label='sections', y_axis_label='particles'\n",
    ")\n",
    "p.circle(y_test, y_pred)\n",
    "show(p)"
   ]
  },
  {
   "cell_type": "code",
   "execution_count": 24,
   "metadata": {},
   "outputs": [
    {
     "data": {
      "image/png": "[encoded data removed]",
      "text/plain": [
       "<Figure size 432x288 with 1 Axes>"
      ]
     },
     "metadata": {},
     "output_type": "display_data"
    }
   ],
   "source": [
    "fig, ax = plt.subplots()\n",
    "ax.scatter(y_test, y_pred, edgecolors=(0, 0, 0))\n",
    "ax.plot([y_test.min(), y_test.max()], [y_test.min(), y_test.max()], 'k--', lw=4)\n",
    "ax.set_xlabel('Measured')\n",
    "ax.set_ylabel('Predicted')\n",
    "plt.show()"
   ]
  },
  {
   "cell_type": "code",
   "execution_count": 263,
   "metadata": {},
   "outputs": [
    {
     "data": {
      "text/plain": [
       "array([154500, 325000, 115000, 159000, 315500,  75500, 311500, 146000,\n",
       "        84500, 135500, 145000, 130000,  81000, 214000, 181000, 134500,\n",
       "       183500, 135000, 118400, 226000, 155000, 210000, 173500, 129000,\n",
       "       192000, 153900, 181134, 141000, 181000, 208900, 127000, 284000,\n",
       "       200500, 135750, 255000, 140000, 138000, 219500, 310000,  97000,\n",
       "       114500, 205000, 119500, 253293, 128500, 117500, 115000, 127000,\n",
       "       451950, 144000, 119000, 196000, 115000, 287000, 144500, 260000,\n",
       "       213000, 175000, 107000, 107500,  68500, 154000, 317000, 264132,\n",
       "       283463, 243000, 109000, 305000,  93500, 176000, 118858, 134000,\n",
       "       109008,  93500, 611657, 173000, 348000, 341000, 141000, 124900,\n",
       "       118000,  67000, 113000,  91300, 149500, 133000, 266000, 190000,\n",
       "       155900, 155835, 153500, 152000, 124500, 301000, 136500, 169990,\n",
       "       205000, 183900, 204900, 260000, 163500, 224900, 244000, 132000,\n",
       "       194000, 156500, 156000, 275000, 145000, 135000,  60000, 124000,\n",
       "       127000, 137500, 213500, 119000, 107900, 123000, 112000, 284000,\n",
       "       133000, 149000, 169000, 207000, 175000, 137000, 236000,  79500,\n",
       "       144000, 162900, 185900, 369900, 197900, 104000,  35311, 337500,\n",
       "       367294, 130250, 230000, 755000, 403000, 132000, 178000, 136500,\n",
       "       145000, 123000, 250000, 187100, 133900,  67000, 137500, 155000,\n",
       "       200624, 154300,  91000, 136000, 108959, 140000,  86000, 131400,\n",
       "       179900, 144000, 293077, 144500, 118500, 141000, 239000, 276000,\n",
       "       556581, 244400, 360000, 103200, 102000, 151000, 285000, 134432,\n",
       "       113000, 187500, 125500, 177500, 179900,  55993, 132500, 135000,\n",
       "       255000, 140000, 271000, 246578, 202500,  75000, 122500, 108480,\n",
       "       160000, 171000, 196000, 225000, 197000,  40000, 172500, 154900,\n",
       "       280000, 175000, 147000, 315000, 185000, 135500, 239500, 139000,\n",
       "       140000, 110000, 225000, 143500, 128950, 172500, 241500, 262500,\n",
       "       194201, 143000, 130000, 126000, 142500, 254000, 217500,  66500,\n",
       "       201000, 155000,  68400,  64500, 173000, 102776,  84900, 165600,\n",
       "       120000, 135000, 220000, 153575, 195400, 147000, 277000, 143000,\n",
       "       105900, 242000, 194500, 438780, 185000, 107500, 165000, 176000,\n",
       "       129900, 115000, 192140, 160000, 145000,  86000, 158000, 127500,\n",
       "       115000, 119500, 175900, 240000, 395000, 165000, 128200, 275000,\n",
       "       311872, 214000, 153500, 144000, 115000, 180000, 465000, 180000,\n",
       "       253000,  85000, 101800, 148500, 137500, 318061, 143000, 140000,\n",
       "       192500,  92000, 197000, 109500, 297000, 185750, 230000,  89471,\n",
       "       260000, 189000, 108000, 124500, 145000, 178000,  85000, 175000,\n",
       "       127000, 149900, 174000, 125500, 175500, 225000, 129000, 159950,\n",
       "       157000, 205000, 140000, 200000, 217000, 125000, 159500, 184000,\n",
       "        96500, 200000, 149000, 178900, 184900, 164700, 335000,  87500,\n",
       "       233170, 149350, 133000,  98000, 207500, 150000, 134900, 187750,\n",
       "       149500, 116050, 153337, 165000, 130500, 206300, 146000, 126500,\n",
       "       139000, 113000,  79000, 182000, 188000, 129000, 160000, 174000,\n",
       "       219210, 310000, 374000, 100000, 250000, 145000, 325000, 380000,\n",
       "       275000, 180000, 245350, 151500, 134500,  94000, 216000, 350000,\n",
       "       195000, 120000, 228500, 248000, 124000, 191000, 181000, 105000,\n",
       "       139900, 157900, 130500, 172400, 130000, 178000, 161500, 119900,\n",
       "       239000, 190000,  85400, 205000, 134000, 168000, 185000, 180500,\n",
       "       152000, 215000, 153000, 106000, 340000, 159000, 120000, 115000,\n",
       "       128000, 314813, 131000, 446261, 127500, 155000, 177500, 128500,\n",
       "       176000, 402000, 130000, 145000, 147000, 115000, 189000, 143000,\n",
       "       240000, 230000, 190000, 213000,  82500, 274900, 155000, 423000,\n",
       "       128500, 335000, 262000, 129500, 222500, 270000, 207500, 175000,\n",
       "       238000, 135900, 224000, 170000, 185000, 263000,  62383, 150000,\n",
       "       171000, 139000, 126175, 205950, 110000, 485000, 174000, 145000,\n",
       "       215200, 320000, 212000, 168500, 189000, 140000, 187500, 254900,\n",
       "       135000, 151000, 112500, 184000, 197000, 161500,  85000, 203000,\n",
       "       325000, 313000, 237000, 180500, 137000,  90350, 150900, 214000,\n",
       "       121500, 745000, 190000, 181000,  60000, 239000, 118500, 109500,\n",
       "       110000, 105500, 199900, 271900, 131500, 135000, 119000, 215000,\n",
       "       133500, 169000])"
      ]
     },
     "execution_count": 263,
     "metadata": {},
     "output_type": "execute_result"
    }
   ],
   "source": [
    "plt.plot(y)"
   ]
  },
  {
   "cell_type": "markdown",
   "metadata": {},
   "source": [
    "# Submission Part"
   ]
  },
  {
   "cell_type": "code",
   "execution_count": 476,
   "metadata": {},
   "outputs": [],
   "source": [
    "df_test = pd.read_csv('data/test.csv')"
   ]
  },
  {
   "cell_type": "code",
   "execution_count": 477,
   "metadata": {},
   "outputs": [
    {
     "name": "stdout",
     "output_type": "stream",
     "text": [
      "\n"
     ]
    }
   ],
   "source": [
    "df_test.drop(col_drop, axis=1, inplace=True)\n",
    "df_test.fillna(dico_fill_na, inplace=True)\n",
    "print()"
   ]
  },
  {
   "cell_type": "code",
   "execution_count": 478,
   "metadata": {},
   "outputs": [],
   "source": [
    "for col in df_test.select_dtypes(include=['object']).columns:\n",
    "    df_test[col] = df_test[col].astype('category').cat.codes"
   ]
  },
  {
   "cell_type": "code",
   "execution_count": 479,
   "metadata": {},
   "outputs": [
    {
     "data": {
      "text/plain": [
       "XGBRegressor(base_score=0.5, booster='gbtree', colsample_bylevel=1,\n",
       "       colsample_bytree=1, gamma=0, learning_rate=0.2, max_delta_step=0,\n",
       "       max_depth=3, min_child_weight=1, missing=None, n_estimators=100,\n",
       "       n_jobs=1, nthread=None, objective='reg:linear', random_state=0,\n",
       "       reg_alpha=0, reg_lambda=1, scale_pos_weight=1, seed=None,\n",
       "       silent=True, subsample=1)"
      ]
     },
     "execution_count": 479,
     "metadata": {},
     "output_type": "execute_result"
    }
   ],
   "source": [
    "clf = xgb.XGBRegressor(learning_rate=0.2)\n",
    "clf.fit(X, Y)"
   ]
  },
  {
   "cell_type": "code",
   "execution_count": 480,
   "metadata": {},
   "outputs": [],
   "source": [
    "y_pred = clf.predict(np.array(df_test))"
   ]
  },
  {
   "cell_type": "code",
   "execution_count": 481,
   "metadata": {},
   "outputs": [],
   "source": [
    "Id = np.arange(1461, 2920)\n",
    "dico = {'Id' : Id, 'SalePrice': y_pred}\n",
    "solution = pd.DataFrame(data=dico)"
   ]
  },
  {
   "cell_type": "code",
   "execution_count": 482,
   "metadata": {},
   "outputs": [],
   "source": [
    "solution.to_csv(index=False, path_or_buf='./data/sample_submission.csv')"
   ]
  },
  {
   "cell_type": "code",
   "execution_count": 298,
   "metadata": {},
   "outputs": [
    {
     "data": {
      "text/html": [
       "<div>\n",
       "<style>\n",
       "    .dataframe thead tr:only-child th {\n",
       "        text-align: right;\n",
       "    }\n",
       "\n",
       "    .dataframe thead th {\n",
       "        text-align: left;\n",
       "    }\n",
       "\n",
       "    .dataframe tbody tr th {\n",
       "        vertical-align: top;\n",
       "    }\n",
       "</style>\n",
       "<table border=\"1\" class=\"dataframe\">\n",
       "  <thead>\n",
       "    <tr style=\"text-align: right;\">\n",
       "      <th></th>\n",
       "      <th>Id</th>\n",
       "      <th>SalePrice</th>\n",
       "    </tr>\n",
       "  </thead>\n",
       "  <tbody>\n",
       "    <tr>\n",
       "      <th>0</th>\n",
       "      <td>1461</td>\n",
       "      <td>124961.00</td>\n",
       "    </tr>\n",
       "    <tr>\n",
       "      <th>1</th>\n",
       "      <td>1462</td>\n",
       "      <td>154349.32</td>\n",
       "    </tr>\n",
       "    <tr>\n",
       "      <th>2</th>\n",
       "      <td>1463</td>\n",
       "      <td>186424.80</td>\n",
       "    </tr>\n",
       "    <tr>\n",
       "      <th>3</th>\n",
       "      <td>1464</td>\n",
       "      <td>182782.50</td>\n",
       "    </tr>\n",
       "    <tr>\n",
       "      <th>4</th>\n",
       "      <td>1465</td>\n",
       "      <td>201129.96</td>\n",
       "    </tr>\n",
       "    <tr>\n",
       "      <th>5</th>\n",
       "      <td>1466</td>\n",
       "      <td>182666.20</td>\n",
       "    </tr>\n",
       "    <tr>\n",
       "      <th>6</th>\n",
       "      <td>1467</td>\n",
       "      <td>164317.44</td>\n",
       "    </tr>\n",
       "    <tr>\n",
       "      <th>7</th>\n",
       "      <td>1468</td>\n",
       "      <td>176991.57</td>\n",
       "    </tr>\n",
       "    <tr>\n",
       "      <th>8</th>\n",
       "      <td>1469</td>\n",
       "      <td>177224.84</td>\n",
       "    </tr>\n",
       "    <tr>\n",
       "      <th>9</th>\n",
       "      <td>1470</td>\n",
       "      <td>119375.68</td>\n",
       "    </tr>\n",
       "    <tr>\n",
       "      <th>10</th>\n",
       "      <td>1471</td>\n",
       "      <td>194607.96</td>\n",
       "    </tr>\n",
       "    <tr>\n",
       "      <th>11</th>\n",
       "      <td>1472</td>\n",
       "      <td>94326.00</td>\n",
       "    </tr>\n",
       "    <tr>\n",
       "      <th>12</th>\n",
       "      <td>1473</td>\n",
       "      <td>99114.50</td>\n",
       "    </tr>\n",
       "    <tr>\n",
       "      <th>13</th>\n",
       "      <td>1474</td>\n",
       "      <td>152390.50</td>\n",
       "    </tr>\n",
       "    <tr>\n",
       "      <th>14</th>\n",
       "      <td>1475</td>\n",
       "      <td>140304.65</td>\n",
       "    </tr>\n",
       "    <tr>\n",
       "      <th>15</th>\n",
       "      <td>1476</td>\n",
       "      <td>398233.46</td>\n",
       "    </tr>\n",
       "    <tr>\n",
       "      <th>16</th>\n",
       "      <td>1477</td>\n",
       "      <td>252822.34</td>\n",
       "    </tr>\n",
       "    <tr>\n",
       "      <th>17</th>\n",
       "      <td>1478</td>\n",
       "      <td>302769.82</td>\n",
       "    </tr>\n",
       "    <tr>\n",
       "      <th>18</th>\n",
       "      <td>1479</td>\n",
       "      <td>250174.49</td>\n",
       "    </tr>\n",
       "    <tr>\n",
       "      <th>19</th>\n",
       "      <td>1480</td>\n",
       "      <td>445438.84</td>\n",
       "    </tr>\n",
       "    <tr>\n",
       "      <th>20</th>\n",
       "      <td>1481</td>\n",
       "      <td>292924.74</td>\n",
       "    </tr>\n",
       "    <tr>\n",
       "      <th>21</th>\n",
       "      <td>1482</td>\n",
       "      <td>205873.28</td>\n",
       "    </tr>\n",
       "    <tr>\n",
       "      <th>22</th>\n",
       "      <td>1483</td>\n",
       "      <td>173580.11</td>\n",
       "    </tr>\n",
       "    <tr>\n",
       "      <th>23</th>\n",
       "      <td>1484</td>\n",
       "      <td>176163.07</td>\n",
       "    </tr>\n",
       "    <tr>\n",
       "      <th>24</th>\n",
       "      <td>1485</td>\n",
       "      <td>171889.96</td>\n",
       "    </tr>\n",
       "    <tr>\n",
       "      <th>25</th>\n",
       "      <td>1486</td>\n",
       "      <td>197573.70</td>\n",
       "    </tr>\n",
       "    <tr>\n",
       "      <th>26</th>\n",
       "      <td>1487</td>\n",
       "      <td>321017.80</td>\n",
       "    </tr>\n",
       "    <tr>\n",
       "      <th>27</th>\n",
       "      <td>1488</td>\n",
       "      <td>244789.65</td>\n",
       "    </tr>\n",
       "    <tr>\n",
       "      <th>28</th>\n",
       "      <td>1489</td>\n",
       "      <td>209831.07</td>\n",
       "    </tr>\n",
       "    <tr>\n",
       "      <th>29</th>\n",
       "      <td>1490</td>\n",
       "      <td>199446.50</td>\n",
       "    </tr>\n",
       "    <tr>\n",
       "      <th>...</th>\n",
       "      <td>...</td>\n",
       "      <td>...</td>\n",
       "    </tr>\n",
       "    <tr>\n",
       "      <th>1429</th>\n",
       "      <td>2890</td>\n",
       "      <td>88765.52</td>\n",
       "    </tr>\n",
       "    <tr>\n",
       "      <th>1430</th>\n",
       "      <td>2891</td>\n",
       "      <td>134333.21</td>\n",
       "    </tr>\n",
       "    <tr>\n",
       "      <th>1431</th>\n",
       "      <td>2892</td>\n",
       "      <td>59704.13</td>\n",
       "    </tr>\n",
       "    <tr>\n",
       "      <th>1432</th>\n",
       "      <td>2893</td>\n",
       "      <td>108057.92</td>\n",
       "    </tr>\n",
       "    <tr>\n",
       "      <th>1433</th>\n",
       "      <td>2894</td>\n",
       "      <td>65857.55</td>\n",
       "    </tr>\n",
       "    <tr>\n",
       "      <th>1434</th>\n",
       "      <td>2895</td>\n",
       "      <td>319080.56</td>\n",
       "    </tr>\n",
       "    <tr>\n",
       "      <th>1435</th>\n",
       "      <td>2896</td>\n",
       "      <td>292871.74</td>\n",
       "    </tr>\n",
       "    <tr>\n",
       "      <th>1436</th>\n",
       "      <td>2897</td>\n",
       "      <td>199633.90</td>\n",
       "    </tr>\n",
       "    <tr>\n",
       "      <th>1437</th>\n",
       "      <td>2898</td>\n",
       "      <td>148674.83</td>\n",
       "    </tr>\n",
       "    <tr>\n",
       "      <th>1438</th>\n",
       "      <td>2899</td>\n",
       "      <td>231332.06</td>\n",
       "    </tr>\n",
       "    <tr>\n",
       "      <th>1439</th>\n",
       "      <td>2900</td>\n",
       "      <td>152832.82</td>\n",
       "    </tr>\n",
       "    <tr>\n",
       "      <th>1440</th>\n",
       "      <td>2901</td>\n",
       "      <td>187344.74</td>\n",
       "    </tr>\n",
       "    <tr>\n",
       "      <th>1441</th>\n",
       "      <td>2902</td>\n",
       "      <td>180557.05</td>\n",
       "    </tr>\n",
       "    <tr>\n",
       "      <th>1442</th>\n",
       "      <td>2903</td>\n",
       "      <td>346916.21</td>\n",
       "    </tr>\n",
       "    <tr>\n",
       "      <th>1443</th>\n",
       "      <td>2904</td>\n",
       "      <td>349850.79</td>\n",
       "    </tr>\n",
       "    <tr>\n",
       "      <th>1444</th>\n",
       "      <td>2905</td>\n",
       "      <td>113020.01</td>\n",
       "    </tr>\n",
       "    <tr>\n",
       "      <th>1445</th>\n",
       "      <td>2906</td>\n",
       "      <td>196730.73</td>\n",
       "    </tr>\n",
       "    <tr>\n",
       "      <th>1446</th>\n",
       "      <td>2907</td>\n",
       "      <td>113995.54</td>\n",
       "    </tr>\n",
       "    <tr>\n",
       "      <th>1447</th>\n",
       "      <td>2908</td>\n",
       "      <td>127179.00</td>\n",
       "    </tr>\n",
       "    <tr>\n",
       "      <th>1448</th>\n",
       "      <td>2909</td>\n",
       "      <td>144706.50</td>\n",
       "    </tr>\n",
       "    <tr>\n",
       "      <th>1449</th>\n",
       "      <td>2910</td>\n",
       "      <td>84796.00</td>\n",
       "    </tr>\n",
       "    <tr>\n",
       "      <th>1450</th>\n",
       "      <td>2911</td>\n",
       "      <td>84786.61</td>\n",
       "    </tr>\n",
       "    <tr>\n",
       "      <th>1451</th>\n",
       "      <td>2912</td>\n",
       "      <td>155502.90</td>\n",
       "    </tr>\n",
       "    <tr>\n",
       "      <th>1452</th>\n",
       "      <td>2913</td>\n",
       "      <td>88443.00</td>\n",
       "    </tr>\n",
       "    <tr>\n",
       "      <th>1453</th>\n",
       "      <td>2914</td>\n",
       "      <td>86079.00</td>\n",
       "    </tr>\n",
       "    <tr>\n",
       "      <th>1454</th>\n",
       "      <td>2915</td>\n",
       "      <td>85295.76</td>\n",
       "    </tr>\n",
       "    <tr>\n",
       "      <th>1455</th>\n",
       "      <td>2916</td>\n",
       "      <td>86605.50</td>\n",
       "    </tr>\n",
       "    <tr>\n",
       "      <th>1456</th>\n",
       "      <td>2917</td>\n",
       "      <td>147948.90</td>\n",
       "    </tr>\n",
       "    <tr>\n",
       "      <th>1457</th>\n",
       "      <td>2918</td>\n",
       "      <td>113293.50</td>\n",
       "    </tr>\n",
       "    <tr>\n",
       "      <th>1458</th>\n",
       "      <td>2919</td>\n",
       "      <td>225526.65</td>\n",
       "    </tr>\n",
       "  </tbody>\n",
       "</table>\n",
       "<p>1459 rows × 2 columns</p>\n",
       "</div>"
      ],
      "text/plain": [
       "        Id  SalePrice\n",
       "0     1461  124961.00\n",
       "1     1462  154349.32\n",
       "2     1463  186424.80\n",
       "3     1464  182782.50\n",
       "4     1465  201129.96\n",
       "5     1466  182666.20\n",
       "6     1467  164317.44\n",
       "7     1468  176991.57\n",
       "8     1469  177224.84\n",
       "9     1470  119375.68\n",
       "10    1471  194607.96\n",
       "11    1472   94326.00\n",
       "12    1473   99114.50\n",
       "13    1474  152390.50\n",
       "14    1475  140304.65\n",
       "15    1476  398233.46\n",
       "16    1477  252822.34\n",
       "17    1478  302769.82\n",
       "18    1479  250174.49\n",
       "19    1480  445438.84\n",
       "20    1481  292924.74\n",
       "21    1482  205873.28\n",
       "22    1483  173580.11\n",
       "23    1484  176163.07\n",
       "24    1485  171889.96\n",
       "25    1486  197573.70\n",
       "26    1487  321017.80\n",
       "27    1488  244789.65\n",
       "28    1489  209831.07\n",
       "29    1490  199446.50\n",
       "...    ...        ...\n",
       "1429  2890   88765.52\n",
       "1430  2891  134333.21\n",
       "1431  2892   59704.13\n",
       "1432  2893  108057.92\n",
       "1433  2894   65857.55\n",
       "1434  2895  319080.56\n",
       "1435  2896  292871.74\n",
       "1436  2897  199633.90\n",
       "1437  2898  148674.83\n",
       "1438  2899  231332.06\n",
       "1439  2900  152832.82\n",
       "1440  2901  187344.74\n",
       "1441  2902  180557.05\n",
       "1442  2903  346916.21\n",
       "1443  2904  349850.79\n",
       "1444  2905  113020.01\n",
       "1445  2906  196730.73\n",
       "1446  2907  113995.54\n",
       "1447  2908  127179.00\n",
       "1448  2909  144706.50\n",
       "1449  2910   84796.00\n",
       "1450  2911   84786.61\n",
       "1451  2912  155502.90\n",
       "1452  2913   88443.00\n",
       "1453  2914   86079.00\n",
       "1454  2915   85295.76\n",
       "1455  2916   86605.50\n",
       "1456  2917  147948.90\n",
       "1457  2918  113293.50\n",
       "1458  2919  225526.65\n",
       "\n",
       "[1459 rows x 2 columns]"
      ]
     },
     "execution_count": 298,
     "metadata": {},
     "output_type": "execute_result"
    }
   ],
   "source": [
    "pd.read_csv(\"./data/sample_submission.csv\")"
   ]
  },
  {
   "cell_type": "code",
   "execution_count": null,
   "metadata": {},
   "outputs": [],
   "source": []
  }
 ],
 "metadata": {
  "kernelspec": {
   "display_name": "Python 3",
   "language": "python",
   "name": "python3"
  },
  "language_info": {
   "codemirror_mode": {
    "name": "ipython",
    "version": 3
   },
   "file_extension": ".py",
   "mimetype": "text/x-python",
   "name": "python",
   "nbconvert_exporter": "python",
   "pygments_lexer": "ipython3",
   "version": "3.6.5"
  }
 },
 "nbformat": 4,
 "nbformat_minor": 2
}
